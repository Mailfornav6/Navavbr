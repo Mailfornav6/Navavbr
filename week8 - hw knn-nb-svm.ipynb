{
 "cells": [
  {
   "cell_type": "markdown",
   "id": "4a8bd498",
   "metadata": {},
   "source": [
    "# Week8 - Homework KNN-NB-SVM\n",
    "\n",
    "- Use GridSearchCV on X_train dataset\n",
    "    - KNN, NB, SVM, Logistic Regression, Decision Trees\n",
    "- Test on X_test dataset"
   ]
  },
  {
   "cell_type": "code",
   "execution_count": 1,
   "id": "ffd31a2d",
   "metadata": {},
   "outputs": [],
   "source": [
    "import numpy as np\n",
    "import matplotlib.pyplot as plt\n",
    "import pandas as pd\n",
    "import seaborn as sns\n",
    "from sklearn.model_selection import train_test_split\n",
    "from sklearn.preprocessing import StandardScaler\n",
    "from sklearn.linear_model import LogisticRegression\n",
    "from sklearn.pipeline import Pipeline\n",
    "from sklearn.svm import SVC\n",
    "from sklearn.neighbors import KNeighborsClassifier\n",
    "from sklearn.naive_bayes import MultinomialNB\n",
    "from sklearn.model_selection import GridSearchCV\n",
    "from sklearn.tree import DecisionTreeClassifier\n",
    "from sklearn.metrics import ConfusionMatrixDisplay"
   ]
  },
  {
   "cell_type": "code",
   "execution_count": 2,
   "id": "e5f84b41",
   "metadata": {},
   "outputs": [],
   "source": [
    "X_train = pd.read_csv('https://github.com/msaricaumbc/DS_data/raw/master/ds602/movie/X_train.csv')\n",
    "y_train = pd.read_csv('https://github.com/msaricaumbc/DS_data/raw/master/ds602/movie/y_train.csv')"
   ]
  },
  {
   "cell_type": "code",
   "execution_count": 3,
   "id": "6d1b1fc5",
   "metadata": {},
   "outputs": [],
   "source": [
    "X_test = pd.read_csv('https://github.com/msaricaumbc/DS_data/raw/master/ds602/movie/X_final.csv')\n",
    "y_test = pd.read_csv('https://github.com/msaricaumbc/DS_data/raw/master/ds602/movie/y_final.csv')"
   ]
  },
  {
   "cell_type": "code",
   "execution_count": 4,
   "id": "d19a8188",
   "metadata": {},
   "outputs": [
    {
     "name": "stdout",
     "output_type": "stream",
     "text": [
      "X_train: (40000, 1)\n",
      "y_train: (40000, 1)\n",
      "X_test: (10000, 1)\n",
      "y_test: (10000, 1)\n"
     ]
    }
   ],
   "source": [
    "print(\"X_train:\", X_train.shape)\n",
    "print(\"y_train:\", y_train.shape)\n",
    "print(\"X_test:\", X_test.shape)\n",
    "print(\"y_test:\", y_test.shape)"
   ]
  },
  {
   "cell_type": "code",
   "execution_count": 5,
   "id": "2eb14904",
   "metadata": {},
   "outputs": [
    {
     "data": {
      "text/html": [
       "<div>\n",
       "<style scoped>\n",
       "    .dataframe tbody tr th:only-of-type {\n",
       "        vertical-align: middle;\n",
       "    }\n",
       "\n",
       "    .dataframe tbody tr th {\n",
       "        vertical-align: top;\n",
       "    }\n",
       "\n",
       "    .dataframe thead th {\n",
       "        text-align: right;\n",
       "    }\n",
       "</style>\n",
       "<table border=\"1\" class=\"dataframe\">\n",
       "  <thead>\n",
       "    <tr style=\"text-align: right;\">\n",
       "      <th></th>\n",
       "      <th>review</th>\n",
       "    </tr>\n",
       "  </thead>\n",
       "  <tbody>\n",
       "    <tr>\n",
       "      <th>0</th>\n",
       "      <td>Shame, is a Swedish film in Swedish with Engli...</td>\n",
       "    </tr>\n",
       "    <tr>\n",
       "      <th>1</th>\n",
       "      <td>I know it's rather unfair to comment on a movi...</td>\n",
       "    </tr>\n",
       "    <tr>\n",
       "      <th>2</th>\n",
       "      <td>\"Bread\" very sharply skewers the conventions o...</td>\n",
       "    </tr>\n",
       "    <tr>\n",
       "      <th>3</th>\n",
       "      <td>After reading tons of good reviews about this ...</td>\n",
       "    </tr>\n",
       "    <tr>\n",
       "      <th>4</th>\n",
       "      <td>During the Civil war a wounded union soldier h...</td>\n",
       "    </tr>\n",
       "  </tbody>\n",
       "</table>\n",
       "</div>"
      ],
      "text/plain": [
       "                                              review\n",
       "0  Shame, is a Swedish film in Swedish with Engli...\n",
       "1  I know it's rather unfair to comment on a movi...\n",
       "2  \"Bread\" very sharply skewers the conventions o...\n",
       "3  After reading tons of good reviews about this ...\n",
       "4  During the Civil war a wounded union soldier h..."
      ]
     },
     "execution_count": 5,
     "metadata": {},
     "output_type": "execute_result"
    }
   ],
   "source": [
    "X_train.head()"
   ]
  },
  {
   "cell_type": "code",
   "execution_count": 6,
   "id": "097d5df4",
   "metadata": {},
   "outputs": [
    {
     "data": {
      "text/html": [
       "<div>\n",
       "<style scoped>\n",
       "    .dataframe tbody tr th:only-of-type {\n",
       "        vertical-align: middle;\n",
       "    }\n",
       "\n",
       "    .dataframe tbody tr th {\n",
       "        vertical-align: top;\n",
       "    }\n",
       "\n",
       "    .dataframe thead th {\n",
       "        text-align: right;\n",
       "    }\n",
       "</style>\n",
       "<table border=\"1\" class=\"dataframe\">\n",
       "  <thead>\n",
       "    <tr style=\"text-align: right;\">\n",
       "      <th></th>\n",
       "      <th>sentiment</th>\n",
       "    </tr>\n",
       "  </thead>\n",
       "  <tbody>\n",
       "    <tr>\n",
       "      <th>0</th>\n",
       "      <td>1</td>\n",
       "    </tr>\n",
       "    <tr>\n",
       "      <th>1</th>\n",
       "      <td>0</td>\n",
       "    </tr>\n",
       "    <tr>\n",
       "      <th>2</th>\n",
       "      <td>1</td>\n",
       "    </tr>\n",
       "    <tr>\n",
       "      <th>3</th>\n",
       "      <td>1</td>\n",
       "    </tr>\n",
       "    <tr>\n",
       "      <th>4</th>\n",
       "      <td>1</td>\n",
       "    </tr>\n",
       "  </tbody>\n",
       "</table>\n",
       "</div>"
      ],
      "text/plain": [
       "   sentiment\n",
       "0          1\n",
       "1          0\n",
       "2          1\n",
       "3          1\n",
       "4          1"
      ]
     },
     "execution_count": 6,
     "metadata": {},
     "output_type": "execute_result"
    }
   ],
   "source": [
    "y_train.head()"
   ]
  },
  {
   "cell_type": "code",
   "execution_count": 7,
   "id": "0f658c47",
   "metadata": {},
   "outputs": [
    {
     "data": {
      "image/png": "[encoded data removed]",
      "text/plain": [
       "<Figure size 600x600 with 1 Axes>"
      ]
     },
     "metadata": {},
     "output_type": "display_data"
    }
   ],
   "source": [
    "plt.figure(figsize= (6,6))\n",
    "sns.histplot(data= y_train, x= 'sentiment')\n",
    "plt.title('Distribution of the Target')\n",
    "plt.show()"
   ]
  },
  {
   "cell_type": "code",
   "execution_count": 8,
   "id": "46bccf06",
   "metadata": {},
   "outputs": [],
   "source": [
    "X_train_subset = X_train[:8000]"
   ]
  },
  {
   "cell_type": "code",
   "execution_count": 15,
   "id": "7c6421b0",
   "metadata": {},
   "outputs": [],
   "source": [
    "y_train_subset = y_train[:8000]"
   ]
  },
  {
   "cell_type": "code",
   "execution_count": 16,
   "id": "96c74ecd-236e-40c9-be78-bf40d4423428",
   "metadata": {},
   "outputs": [
    {
     "data": {
      "image/png": "[encoded data removed]",
      "text/plain": [
       "<Figure size 600x600 with 1 Axes>"
      ]
     },
     "metadata": {},
     "output_type": "display_data"
    }
   ],
   "source": [
    "plt.figure(figsize= (6,6))\n",
    "sns.histplot(data= y_train_subset, x= 'sentiment')\n",
    "plt.title('Distribution of the Target')\n",
    "plt.show()"
   ]
  },
  {
   "cell_type": "code",
   "execution_count": 18,
   "id": "8817c18a-b8ab-4533-b4b5-baeba677546a",
   "metadata": {},
   "outputs": [],
   "source": [
    "X_train_subset_train, X_train_subset_test, y_train_subset_train, y_train_subset_test = train_test_split(X_train_subset, y_train_subset, test_size=0.2, random_state=100)"
   ]
  },
  {
   "cell_type": "code",
   "execution_count": 19,
   "id": "6ce4bf85-593e-4cad-8050-48f23a655f85",
   "metadata": {},
   "outputs": [
    {
     "data": {
      "text/html": [
       "<div>\n",
       "<style scoped>\n",
       "    .dataframe tbody tr th:only-of-type {\n",
       "        vertical-align: middle;\n",
       "    }\n",
       "\n",
       "    .dataframe tbody tr th {\n",
       "        vertical-align: top;\n",
       "    }\n",
       "\n",
       "    .dataframe thead th {\n",
       "        text-align: right;\n",
       "    }\n",
       "</style>\n",
       "<table border=\"1\" class=\"dataframe\">\n",
       "  <thead>\n",
       "    <tr style=\"text-align: right;\">\n",
       "      <th></th>\n",
       "      <th>review</th>\n",
       "    </tr>\n",
       "  </thead>\n",
       "  <tbody>\n",
       "    <tr>\n",
       "      <th>2784</th>\n",
       "      <td>\"The Danish Bladerunner\" is boldly stated on t...</td>\n",
       "    </tr>\n",
       "    <tr>\n",
       "      <th>4121</th>\n",
       "      <td>My 15 year old daughter asked me to watch this...</td>\n",
       "    </tr>\n",
       "    <tr>\n",
       "      <th>6302</th>\n",
       "      <td>I used to always love the bill because of its ...</td>\n",
       "    </tr>\n",
       "    <tr>\n",
       "      <th>2948</th>\n",
       "      <td>I was aware of Man of the Year's critical pans...</td>\n",
       "    </tr>\n",
       "    <tr>\n",
       "      <th>5630</th>\n",
       "      <td>Someone once defined what is the definition of...</td>\n",
       "    </tr>\n",
       "    <tr>\n",
       "      <th>...</th>\n",
       "      <td>...</td>\n",
       "    </tr>\n",
       "    <tr>\n",
       "      <th>79</th>\n",
       "      <td>After reading some of these reviews, it is app...</td>\n",
       "    </tr>\n",
       "    <tr>\n",
       "      <th>3927</th>\n",
       "      <td>My spouse &amp; I found this movie to be very schl...</td>\n",
       "    </tr>\n",
       "    <tr>\n",
       "      <th>5955</th>\n",
       "      <td>I felt this film did have many good qualities....</td>\n",
       "    </tr>\n",
       "    <tr>\n",
       "      <th>6936</th>\n",
       "      <td>Deanna Durbin, then 14 and just under contract...</td>\n",
       "    </tr>\n",
       "    <tr>\n",
       "      <th>5640</th>\n",
       "      <td>Like another ticket buyer I saw a nice cute po...</td>\n",
       "    </tr>\n",
       "  </tbody>\n",
       "</table>\n",
       "<p>6400 rows × 1 columns</p>\n",
       "</div>"
      ],
      "text/plain": [
       "                                                 review\n",
       "2784  \"The Danish Bladerunner\" is boldly stated on t...\n",
       "4121  My 15 year old daughter asked me to watch this...\n",
       "6302  I used to always love the bill because of its ...\n",
       "2948  I was aware of Man of the Year's critical pans...\n",
       "5630  Someone once defined what is the definition of...\n",
       "...                                                 ...\n",
       "79    After reading some of these reviews, it is app...\n",
       "3927  My spouse & I found this movie to be very schl...\n",
       "5955  I felt this film did have many good qualities....\n",
       "6936  Deanna Durbin, then 14 and just under contract...\n",
       "5640  Like another ticket buyer I saw a nice cute po...\n",
       "\n",
       "[6400 rows x 1 columns]"
      ]
     },
     "execution_count": 19,
     "metadata": {},
     "output_type": "execute_result"
    }
   ],
   "source": [
    "X_train_subset_train"
   ]
  },
  {
   "cell_type": "code",
   "execution_count": 20,
   "id": "81913530-b374-420e-8f55-2db8edb951da",
   "metadata": {},
   "outputs": [
    {
     "data": {
      "text/html": [
       "<div>\n",
       "<style scoped>\n",
       "    .dataframe tbody tr th:only-of-type {\n",
       "        vertical-align: middle;\n",
       "    }\n",
       "\n",
       "    .dataframe tbody tr th {\n",
       "        vertical-align: top;\n",
       "    }\n",
       "\n",
       "    .dataframe thead th {\n",
       "        text-align: right;\n",
       "    }\n",
       "</style>\n",
       "<table border=\"1\" class=\"dataframe\">\n",
       "  <thead>\n",
       "    <tr style=\"text-align: right;\">\n",
       "      <th></th>\n",
       "      <th>review</th>\n",
       "    </tr>\n",
       "  </thead>\n",
       "  <tbody>\n",
       "    <tr>\n",
       "      <th>7512</th>\n",
       "      <td>This movie was nominated for best picture but ...</td>\n",
       "    </tr>\n",
       "    <tr>\n",
       "      <th>434</th>\n",
       "      <td>This is the first movie i've seen of John Sing...</td>\n",
       "    </tr>\n",
       "    <tr>\n",
       "      <th>4933</th>\n",
       "      <td>Before I had seen this film, I had heard some ...</td>\n",
       "    </tr>\n",
       "    <tr>\n",
       "      <th>1264</th>\n",
       "      <td>At last!! Sandra Bullock is indeed a beautiful...</td>\n",
       "    </tr>\n",
       "    <tr>\n",
       "      <th>59</th>\n",
       "      <td>I saw Two Hands back in Sydney a few years ago...</td>\n",
       "    </tr>\n",
       "    <tr>\n",
       "      <th>...</th>\n",
       "      <td>...</td>\n",
       "    </tr>\n",
       "    <tr>\n",
       "      <th>536</th>\n",
       "      <td>To sum this movie up, it is LaBute carrying hi...</td>\n",
       "    </tr>\n",
       "    <tr>\n",
       "      <th>6824</th>\n",
       "      <td>I saw this film via one of the actors' agents,...</td>\n",
       "    </tr>\n",
       "    <tr>\n",
       "      <th>5826</th>\n",
       "      <td>I truly despair for womankind when they discus...</td>\n",
       "    </tr>\n",
       "    <tr>\n",
       "      <th>6918</th>\n",
       "      <td>Crossing the Bridge: the Sound of Istanbul rec...</td>\n",
       "    </tr>\n",
       "    <tr>\n",
       "      <th>2460</th>\n",
       "      <td>The absolute summum of the oeuvre of that craf...</td>\n",
       "    </tr>\n",
       "  </tbody>\n",
       "</table>\n",
       "<p>1600 rows × 1 columns</p>\n",
       "</div>"
      ],
      "text/plain": [
       "                                                 review\n",
       "7512  This movie was nominated for best picture but ...\n",
       "434   This is the first movie i've seen of John Sing...\n",
       "4933  Before I had seen this film, I had heard some ...\n",
       "1264  At last!! Sandra Bullock is indeed a beautiful...\n",
       "59    I saw Two Hands back in Sydney a few years ago...\n",
       "...                                                 ...\n",
       "536   To sum this movie up, it is LaBute carrying hi...\n",
       "6824  I saw this film via one of the actors' agents,...\n",
       "5826  I truly despair for womankind when they discus...\n",
       "6918  Crossing the Bridge: the Sound of Istanbul rec...\n",
       "2460  The absolute summum of the oeuvre of that craf...\n",
       "\n",
       "[1600 rows x 1 columns]"
      ]
     },
     "execution_count": 20,
     "metadata": {},
     "output_type": "execute_result"
    }
   ],
   "source": [
    "X_train_subset_test"
   ]
  },
  {
   "cell_type": "code",
   "execution_count": 21,
   "id": "26bf990c-581b-4124-9b0e-b2865383c695",
   "metadata": {},
   "outputs": [
    {
     "data": {
      "text/html": [
       "<div>\n",
       "<style scoped>\n",
       "    .dataframe tbody tr th:only-of-type {\n",
       "        vertical-align: middle;\n",
       "    }\n",
       "\n",
       "    .dataframe tbody tr th {\n",
       "        vertical-align: top;\n",
       "    }\n",
       "\n",
       "    .dataframe thead th {\n",
       "        text-align: right;\n",
       "    }\n",
       "</style>\n",
       "<table border=\"1\" class=\"dataframe\">\n",
       "  <thead>\n",
       "    <tr style=\"text-align: right;\">\n",
       "      <th></th>\n",
       "      <th>sentiment</th>\n",
       "    </tr>\n",
       "  </thead>\n",
       "  <tbody>\n",
       "    <tr>\n",
       "      <th>2784</th>\n",
       "      <td>0</td>\n",
       "    </tr>\n",
       "    <tr>\n",
       "      <th>4121</th>\n",
       "      <td>0</td>\n",
       "    </tr>\n",
       "    <tr>\n",
       "      <th>6302</th>\n",
       "      <td>0</td>\n",
       "    </tr>\n",
       "    <tr>\n",
       "      <th>2948</th>\n",
       "      <td>0</td>\n",
       "    </tr>\n",
       "    <tr>\n",
       "      <th>5630</th>\n",
       "      <td>1</td>\n",
       "    </tr>\n",
       "    <tr>\n",
       "      <th>...</th>\n",
       "      <td>...</td>\n",
       "    </tr>\n",
       "    <tr>\n",
       "      <th>79</th>\n",
       "      <td>1</td>\n",
       "    </tr>\n",
       "    <tr>\n",
       "      <th>3927</th>\n",
       "      <td>0</td>\n",
       "    </tr>\n",
       "    <tr>\n",
       "      <th>5955</th>\n",
       "      <td>1</td>\n",
       "    </tr>\n",
       "    <tr>\n",
       "      <th>6936</th>\n",
       "      <td>1</td>\n",
       "    </tr>\n",
       "    <tr>\n",
       "      <th>5640</th>\n",
       "      <td>0</td>\n",
       "    </tr>\n",
       "  </tbody>\n",
       "</table>\n",
       "<p>6400 rows × 1 columns</p>\n",
       "</div>"
      ],
      "text/plain": [
       "      sentiment\n",
       "2784          0\n",
       "4121          0\n",
       "6302          0\n",
       "2948          0\n",
       "5630          1\n",
       "...         ...\n",
       "79            1\n",
       "3927          0\n",
       "5955          1\n",
       "6936          1\n",
       "5640          0\n",
       "\n",
       "[6400 rows x 1 columns]"
      ]
     },
     "execution_count": 21,
     "metadata": {},
     "output_type": "execute_result"
    }
   ],
   "source": [
    "y_train_subset_train"
   ]
  },
  {
   "cell_type": "code",
   "execution_count": 22,
   "id": "8bc5c35f-4c74-4c20-b635-e7726c78f3a0",
   "metadata": {},
   "outputs": [
    {
     "data": {
      "text/html": [
       "<div>\n",
       "<style scoped>\n",
       "    .dataframe tbody tr th:only-of-type {\n",
       "        vertical-align: middle;\n",
       "    }\n",
       "\n",
       "    .dataframe tbody tr th {\n",
       "        vertical-align: top;\n",
       "    }\n",
       "\n",
       "    .dataframe thead th {\n",
       "        text-align: right;\n",
       "    }\n",
       "</style>\n",
       "<table border=\"1\" class=\"dataframe\">\n",
       "  <thead>\n",
       "    <tr style=\"text-align: right;\">\n",
       "      <th></th>\n",
       "      <th>sentiment</th>\n",
       "    </tr>\n",
       "  </thead>\n",
       "  <tbody>\n",
       "    <tr>\n",
       "      <th>7512</th>\n",
       "      <td>1</td>\n",
       "    </tr>\n",
       "    <tr>\n",
       "      <th>434</th>\n",
       "      <td>1</td>\n",
       "    </tr>\n",
       "    <tr>\n",
       "      <th>4933</th>\n",
       "      <td>0</td>\n",
       "    </tr>\n",
       "    <tr>\n",
       "      <th>1264</th>\n",
       "      <td>1</td>\n",
       "    </tr>\n",
       "    <tr>\n",
       "      <th>59</th>\n",
       "      <td>1</td>\n",
       "    </tr>\n",
       "    <tr>\n",
       "      <th>...</th>\n",
       "      <td>...</td>\n",
       "    </tr>\n",
       "    <tr>\n",
       "      <th>536</th>\n",
       "      <td>0</td>\n",
       "    </tr>\n",
       "    <tr>\n",
       "      <th>6824</th>\n",
       "      <td>1</td>\n",
       "    </tr>\n",
       "    <tr>\n",
       "      <th>5826</th>\n",
       "      <td>0</td>\n",
       "    </tr>\n",
       "    <tr>\n",
       "      <th>6918</th>\n",
       "      <td>1</td>\n",
       "    </tr>\n",
       "    <tr>\n",
       "      <th>2460</th>\n",
       "      <td>1</td>\n",
       "    </tr>\n",
       "  </tbody>\n",
       "</table>\n",
       "<p>1600 rows × 1 columns</p>\n",
       "</div>"
      ],
      "text/plain": [
       "      sentiment\n",
       "7512          1\n",
       "434           1\n",
       "4933          0\n",
       "1264          1\n",
       "59            1\n",
       "...         ...\n",
       "536           0\n",
       "6824          1\n",
       "5826          0\n",
       "6918          1\n",
       "2460          1\n",
       "\n",
       "[1600 rows x 1 columns]"
      ]
     },
     "execution_count": 22,
     "metadata": {},
     "output_type": "execute_result"
    }
   ],
   "source": [
    "y_train_subset_test"
   ]
  },
  {
   "cell_type": "code",
   "execution_count": 24,
   "id": "9614b541",
   "metadata": {},
   "outputs": [],
   "source": [
    "from sklearn.feature_extraction.text import CountVectorizer\n",
    "\n",
    "def model_pipe(model, vectorizer, scale=False):\n",
    "    from sklearn.pipeline import Pipeline\n",
    "\n",
    "    mp = Pipeline([('vectorizer', vectorizer), ('model', model)])\n",
    "    return mp\n",
    "\n",
    "vectorizer = CountVectorizer(max_features=10000, stop_words='english')"
   ]
  },
  {
   "cell_type": "code",
   "execution_count": null,
   "id": "c44ee51d",
   "metadata": {},
   "outputs": [],
   "source": []
  },
  {
   "cell_type": "markdown",
   "id": "d0c2e464",
   "metadata": {},
   "source": [
    "### KNN"
   ]
  },
  {
   "cell_type": "code",
   "execution_count": 25,
   "id": "2abc2112",
   "metadata": {},
   "outputs": [
    {
     "data": {
      "image/png": "[encoded data removed]",
      "text/plain": [
       "<Figure size 640x480 with 2 Axes>"
      ]
     },
     "metadata": {},
     "output_type": "display_data"
    }
   ],
   "source": [
    "from sklearn.feature_extraction.text import CountVectorizer\n",
    "from sklearn.neighbors import KNeighborsClassifier\n",
    "from sklearn.model_selection import GridSearchCV\n",
    "from sklearn.metrics import ConfusionMatrixDisplay\n",
    "\n",
    "param_grid = [{'vectorizer__ngram_range': [(1,1), (1,2)],\n",
    "               'vectorizer__min_df': [0.05, 0.10],\n",
    "               'model__n_neighbors': [1, 4, 8, 10, 15],\n",
    "               'model__weights': ['uniform','distance']}\n",
    " ]\n",
    "\n",
    "mp = model_pipe(KNeighborsClassifier(), vectorizer)\n",
    "\n",
    "bag_knn_results = GridSearchCV(estimator=mp, param_grid=param_grid, scoring='accuracy', refit=True, cv=5)\n",
    "bag_knn_results = bag_knn_results.fit(X_train_subset_train['review'], y_train_subset_train.values.ravel())\n",
    "\n",
    "ConfusionMatrixDisplay.from_estimator(bag_knn_results, X_train_subset_test['review'], y_train_subset_test.values.ravel())\n",
    "plt.show()"
   ]
  },
  {
   "cell_type": "code",
   "execution_count": 36,
   "id": "64759115-5f41-4524-8394-b94a2baf825b",
   "metadata": {},
   "outputs": [
    {
     "data": {
      "text/plain": [
       "{'model__n_neighbors': 15,\n",
       " 'model__weights': 'distance',\n",
       " 'vectorizer__min_df': 0.05,\n",
       " 'vectorizer__ngram_range': (1, 2)}"
      ]
     },
     "execution_count": 36,
     "metadata": {},
     "output_type": "execute_result"
    }
   ],
   "source": [
    "bag_knn_results.best_params_"
   ]
  },
  {
   "cell_type": "code",
   "execution_count": 38,
   "id": "3e1f29e9-8e53-45c5-b60d-70594025408b",
   "metadata": {},
   "outputs": [
    {
     "name": "stdout",
     "output_type": "stream",
     "text": [
      "K-Nearest Neighbors - Training: 1.0\n"
     ]
    }
   ],
   "source": [
    "print(\"K-Nearest Neighbors - Training:\", bag_knn_results.score(X_train_subset_train['review'], y_train_subset_train.values.ravel()))"
   ]
  },
  {
   "cell_type": "code",
   "execution_count": 39,
   "id": "2d82af5a-9719-4f0f-bfac-81d67533130b",
   "metadata": {},
   "outputs": [
    {
     "name": "stdout",
     "output_type": "stream",
     "text": [
      "K-Nearest Neighbors - Testing: 0.614375\n"
     ]
    }
   ],
   "source": [
    "print(\"K-Nearest Neighbors - Testing:\", bag_knn_results.score(X_train_subset_test['review'], y_train_subset_test.values.ravel()))"
   ]
  },
  {
   "cell_type": "markdown",
   "id": "7972c06d",
   "metadata": {},
   "source": [
    "### Navie Bayes"
   ]
  },
  {
   "cell_type": "code",
   "execution_count": 27,
   "id": "d5eb41be",
   "metadata": {},
   "outputs": [
    {
     "data": {
      "image/png": "[encoded data removed]",
      "text/plain": [
       "<Figure size 640x480 with 2 Axes>"
      ]
     },
     "metadata": {},
     "output_type": "display_data"
    }
   ],
   "source": [
    "from sklearn.feature_extraction.text import CountVectorizer\n",
    "from sklearn.naive_bayes import BernoulliNB\n",
    "from sklearn.model_selection import GridSearchCV\n",
    "from sklearn.metrics import ConfusionMatrixDisplay\n",
    "\n",
    "param_grid = [{'vectorizer__ngram_range': [(1,1), (1,2)],\n",
    "               'vectorizer__min_df': [0.05, 0.10]}\n",
    " ]\n",
    "\n",
    "mp = model_pipe(BernoulliNB(), vectorizer)\n",
    "\n",
    "bag_nb_results = GridSearchCV(estimator=mp, param_grid=param_grid, scoring='accuracy', refit=True, cv=5)\n",
    "bag_nb_results = bag_nb_results.fit(X_train_subset_train['review'], y_train_subset_train.values.ravel())\n",
    "\n",
    "ConfusionMatrixDisplay.from_estimator(bag_nb_results, X_train_subset_test['review'], y_train_subset_test.values.ravel())\n",
    "plt.show()"
   ]
  },
  {
   "cell_type": "code",
   "execution_count": 40,
   "id": "5ffaa20d-93ab-4c72-bdcd-cd1ab7a04fd0",
   "metadata": {},
   "outputs": [
    {
     "data": {
      "text/plain": [
       "{'vectorizer__min_df': 0.05, 'vectorizer__ngram_range': (1, 1)}"
      ]
     },
     "execution_count": 40,
     "metadata": {},
     "output_type": "execute_result"
    }
   ],
   "source": [
    "bag_nb_results.best_params_"
   ]
  },
  {
   "cell_type": "code",
   "execution_count": 41,
   "id": "4696cb81-5526-43d2-9d9f-6cbd86b28111",
   "metadata": {},
   "outputs": [
    {
     "name": "stdout",
     "output_type": "stream",
     "text": [
      "Naive Bayes - Training: 0.785625\n"
     ]
    }
   ],
   "source": [
    "print(\"Naive Bayes - Training:\", bag_nb_results.score(X_train_subset_train['review'], y_train_subset_train.values.ravel()))"
   ]
  },
  {
   "cell_type": "code",
   "execution_count": 42,
   "id": "d86f6ad6-d646-4bc0-a8ef-cd6ff5620282",
   "metadata": {},
   "outputs": [
    {
     "name": "stdout",
     "output_type": "stream",
     "text": [
      "Naive Bayes - Testing: 0.76875\n"
     ]
    }
   ],
   "source": [
    "print(\"Naive Bayes - Testing:\", bag_nb_results.score(X_train_subset_test['review'], y_train_subset_test.values.ravel()))"
   ]
  },
  {
   "cell_type": "markdown",
   "id": "4c647fef",
   "metadata": {},
   "source": [
    "### SVM"
   ]
  },
  {
   "cell_type": "code",
   "execution_count": 29,
   "id": "d27e1f90",
   "metadata": {},
   "outputs": [
    {
     "data": {
      "image/png": "[encoded data removed]",
      "text/plain": [
       "<Figure size 640x480 with 2 Axes>"
      ]
     },
     "metadata": {},
     "output_type": "display_data"
    }
   ],
   "source": [
    "from sklearn.feature_extraction.text import CountVectorizer\n",
    "from sklearn.svm import SVC\n",
    "from sklearn.model_selection import GridSearchCV\n",
    "from sklearn.metrics import ConfusionMatrixDisplay\n",
    "\n",
    "param_grid = [{'vectorizer__ngram_range': [(1,1), (1,2)],\n",
    "               'vectorizer__min_df': [0.05, 0.10],\n",
    "               'model__C': [0.1, 1, 10],\n",
    "               'model__kernel': ['linear', 'rbf'],\n",
    "               'model__class_weight': [None, 'balanced']}\n",
    " ]\n",
    "\n",
    "mp = model_pipe(SVC(), vectorizer)\n",
    "\n",
    "bag_svm_results = GridSearchCV(estimator=mp, param_grid=param_grid, scoring='accuracy', refit=True, cv=5)\n",
    "bag_svm_results = bag_svm_results.fit(X_train_subset_train['review'], y_train_subset_train.values.ravel())\n",
    "\n",
    "ConfusionMatrixDisplay.from_estimator(bag_svm_results, X_train_subset_test['review'], y_train_subset_test.values.ravel())\n",
    "plt.show()"
   ]
  },
  {
   "cell_type": "code",
   "execution_count": 43,
   "id": "5f45808b-e0ae-433a-9d35-a7cf36231711",
   "metadata": {},
   "outputs": [
    {
     "data": {
      "text/plain": [
       "{'model__C': 1,\n",
       " 'model__class_weight': 'balanced',\n",
       " 'model__kernel': 'linear',\n",
       " 'vectorizer__min_df': 0.05,\n",
       " 'vectorizer__ngram_range': (1, 1)}"
      ]
     },
     "execution_count": 43,
     "metadata": {},
     "output_type": "execute_result"
    }
   ],
   "source": [
    "bag_svm_results.best_params_"
   ]
  },
  {
   "cell_type": "code",
   "execution_count": 48,
   "id": "45f36025-03b6-43aa-af47-29b4b0be6fb1",
   "metadata": {},
   "outputs": [
    {
     "name": "stdout",
     "output_type": "stream",
     "text": [
      "Support Vector Machine - Training: 0.82984375\n"
     ]
    }
   ],
   "source": [
    "print(\"Support Vector Machine - Training:\", bag_svm_results.score(X_train_subset_train['review'], y_train_subset_train.values.ravel()))"
   ]
  },
  {
   "cell_type": "code",
   "execution_count": 49,
   "id": "bb1e14b2-7e16-4ed2-844a-6f0ec34f1490",
   "metadata": {},
   "outputs": [
    {
     "name": "stdout",
     "output_type": "stream",
     "text": [
      "Support vector Machine - Testing: 0.778125\n"
     ]
    }
   ],
   "source": [
    "print(\"Support vector Machine - Testing:\", bag_svm_results.score(X_train_subset_test['review'], y_train_subset_test.values.ravel()))"
   ]
  },
  {
   "cell_type": "markdown",
   "id": "bbc8fd53",
   "metadata": {},
   "source": [
    "### Logistic Regression"
   ]
  },
  {
   "cell_type": "code",
   "execution_count": 31,
   "id": "69d21f23",
   "metadata": {},
   "outputs": [
    {
     "data": {
      "image/png": "[encoded data removed]",
      "text/plain": [
       "<Figure size 640x480 with 2 Axes>"
      ]
     },
     "metadata": {},
     "output_type": "display_data"
    }
   ],
   "source": [
    "param_grid = [{'vectorizer__ngram_range': [(1,1), (1,2)],\n",
    "               'vectorizer__min_df': [0.05, 0.10],\n",
    "               'model__C': [0.1, 1, 10],\n",
    "               'model__class_weight': [None, 'balanced']}\n",
    " ]\n",
    "\n",
    "mp = model_pipe(LogisticRegression(solver='liblinear'), vectorizer)\n",
    "\n",
    "bag_lr_results = GridSearchCV(estimator=mp, param_grid=param_grid, scoring='accuracy', refit=True, cv=5)\n",
    "bag_lr_results = bag_lr_results.fit(X_train_subset_train['review'], y_train_subset_train.values.ravel())\n",
    "\n",
    "ConfusionMatrixDisplay.from_estimator(bag_lr_results, X_train_subset_test['review'], y_train_subset_test.values.ravel())\n",
    "plt.show()"
   ]
  },
  {
   "cell_type": "code",
   "execution_count": 50,
   "id": "e1c3803a-3045-489e-8bd3-d1240a461afe",
   "metadata": {},
   "outputs": [
    {
     "data": {
      "text/plain": [
       "{'model__C': 0.1,\n",
       " 'model__class_weight': 'balanced',\n",
       " 'vectorizer__min_df': 0.05,\n",
       " 'vectorizer__ngram_range': (1, 1)}"
      ]
     },
     "execution_count": 50,
     "metadata": {},
     "output_type": "execute_result"
    }
   ],
   "source": [
    "bag_lr_results.best_params_"
   ]
  },
  {
   "cell_type": "code",
   "execution_count": 51,
   "id": "f7354d1c-a473-47f4-a9ec-a0b612ba293b",
   "metadata": {},
   "outputs": [
    {
     "name": "stdout",
     "output_type": "stream",
     "text": [
      "Logistic Regression - Training: 0.83078125\n"
     ]
    }
   ],
   "source": [
    "print(\"Logistic Regression - Training:\", bag_lr_results.score(X_train_subset_train['review'], y_train_subset_train.values.ravel()))"
   ]
  },
  {
   "cell_type": "code",
   "execution_count": 52,
   "id": "e49a4e53-8039-44e2-9358-40cd3261aed4",
   "metadata": {},
   "outputs": [
    {
     "name": "stdout",
     "output_type": "stream",
     "text": [
      "Logistic Regression - Testing: 0.779375\n"
     ]
    }
   ],
   "source": [
    "print(\"Logistic Regression - Testing:\", bag_lr_results.score(X_train_subset_test['review'], y_train_subset_test.values.ravel()))"
   ]
  },
  {
   "cell_type": "markdown",
   "id": "f738ba5d",
   "metadata": {},
   "source": [
    "### Decision Tree"
   ]
  },
  {
   "cell_type": "code",
   "execution_count": 35,
   "id": "2cf99b92",
   "metadata": {},
   "outputs": [
    {
     "data": {
      "image/png": "[encoded data removed]",
      "text/plain": [
       "<Figure size 640x480 with 2 Axes>"
      ]
     },
     "metadata": {},
     "output_type": "display_data"
    }
   ],
   "source": [
    "param_grid = [{\n",
    "    'vectorizer__ngram_range': [(1, 1), (1, 2)],\n",
    "    'vectorizer__min_df': [0.05, 0.10],\n",
    "    'model__max_depth': [None, 10, 20, 30],\n",
    "    'model__min_samples_split': [2, 5, 10],\n",
    "    'model__min_samples_leaf': [1, 2, 4],\n",
    "    'model__class_weight': [None, 'balanced']\n",
    "}]\n",
    "\n",
    "\n",
    "mp = model_pipe(DecisionTreeClassifier(), vectorizer)\n",
    "\n",
    "bag_dt_results = GridSearchCV(estimator=mp, param_grid=param_grid, scoring='accuracy', refit=True, cv=5)\n",
    "bag_dt_results = bag_dt_results.fit(X_train_subset_train['review'], y_train_subset_train.values.ravel())\n",
    "\n",
    "ConfusionMatrixDisplay.from_estimator(bag_dt_results, X_train_subset_test['review'], y_train_subset_test.values.ravel())\n",
    "plt.show()"
   ]
  },
  {
   "cell_type": "code",
   "execution_count": 53,
   "id": "67e7d3db-9da2-4d19-acff-3fbae5881d1a",
   "metadata": {},
   "outputs": [
    {
     "data": {
      "text/plain": [
       "{'model__class_weight': None,\n",
       " 'model__max_depth': 10,\n",
       " 'model__min_samples_leaf': 4,\n",
       " 'model__min_samples_split': 10,\n",
       " 'vectorizer__min_df': 0.05,\n",
       " 'vectorizer__ngram_range': (1, 2)}"
      ]
     },
     "execution_count": 53,
     "metadata": {},
     "output_type": "execute_result"
    }
   ],
   "source": [
    "bag_dt_results.best_params_"
   ]
  },
  {
   "cell_type": "code",
   "execution_count": 54,
   "id": "3faf68cb-c064-48fe-8ece-caad91be2387",
   "metadata": {},
   "outputs": [
    {
     "name": "stdout",
     "output_type": "stream",
     "text": [
      "Decision Tree - Training: 0.75203125\n"
     ]
    }
   ],
   "source": [
    "print(\"Decision Tree - Training:\", bag_dt_results.score(X_train_subset_train['review'], y_train_subset_train.values.ravel()))"
   ]
  },
  {
   "cell_type": "code",
   "execution_count": 55,
   "id": "6e44d81b-a6f1-49b1-a491-f8d13392682f",
   "metadata": {},
   "outputs": [
    {
     "name": "stdout",
     "output_type": "stream",
     "text": [
      "Decision Tree - Testing: 0.7\n"
     ]
    }
   ],
   "source": [
    "print(\"Decision Tree - Testing:\", bag_dt_results.score(X_train_subset_test['review'], y_train_subset_test.values.ravel()))"
   ]
  },
  {
   "cell_type": "markdown",
   "id": "f83f537a-8aaf-4092-ba3c-26469d7582b1",
   "metadata": {},
   "source": [
    "Based on the accuracy for the above models, Logistic Regression performs well as it gives 78% of accuracy, So I am training the whole dataset by using the best parameters on this model."
   ]
  },
  {
   "cell_type": "markdown",
   "id": "c7b025b0-3c53-4359-8859-21820ed213b0",
   "metadata": {},
   "source": [
    "### Best Model-Logistic Regression"
   ]
  },
  {
   "cell_type": "code",
   "execution_count": 58,
   "id": "e6978741-55ba-4e23-a0ca-67e5350be5f5",
   "metadata": {},
   "outputs": [
    {
     "data": {
      "image/png": "[encoded data removed]",
      "text/plain": [
       "<Figure size 640x480 with 2 Axes>"
      ]
     },
     "metadata": {},
     "output_type": "display_data"
    }
   ],
   "source": [
    "best_model_pipeline = Pipeline([\n",
    "    ('vectorizer', CountVectorizer(max_features=10000, stop_words='english',min_df=0.05, ngram_range=(1, 1))),\n",
    "    ('model', LogisticRegression(solver='liblinear', C=0.1, class_weight='balanced'))\n",
    "])\n",
    "\n",
    "m = best_model_pipeline.fit(X_train['review'], y_train.values.ravel())\n",
    "\n",
    "ConfusionMatrixDisplay.from_estimator(m, X_test['review'], y_test.values.ravel())\n",
    "plt.show()"
   ]
  },
  {
   "cell_type": "code",
   "execution_count": 60,
   "id": "a12ccbcb-1558-45e8-bac4-12dfba93de20",
   "metadata": {},
   "outputs": [
    {
     "name": "stdout",
     "output_type": "stream",
     "text": [
      "Logistic Regression - training - best model - accuracy: 0.8146\n"
     ]
    }
   ],
   "source": [
    "print(\"Logistic Regression - training - best model - accuracy:\", m.score(X_train['review'], y_train.values.ravel()))"
   ]
  },
  {
   "cell_type": "code",
   "execution_count": 63,
   "id": "ed4c1106-5b7f-4483-ac57-12df5fbce583",
   "metadata": {},
   "outputs": [
    {
     "name": "stdout",
     "output_type": "stream",
     "text": [
      "Logistic Regression - testing - best model - accuracy: 0.8075\n"
     ]
    }
   ],
   "source": [
    "print(\"Logistic Regression - testing - best model - accuracy:\", m.score(X_test['review'], y_test.values.ravel()))"
   ]
  },
  {
   "cell_type": "code",
   "execution_count": 64,
   "id": "bb21bcee-bfde-4df3-b34c-62c058199af4",
   "metadata": {},
   "outputs": [
    {
     "name": "stdout",
     "output_type": "stream",
     "text": [
      "              precision    recall  f1-score   support\n",
      "\n",
      "           0       0.83      0.77      0.80      5000\n",
      "           1       0.79      0.84      0.81      5000\n",
      "\n",
      "    accuracy                           0.81     10000\n",
      "   macro avg       0.81      0.81      0.81     10000\n",
      "weighted avg       0.81      0.81      0.81     10000\n",
      "\n"
     ]
    }
   ],
   "source": [
    "from sklearn.metrics import classification_report\n",
    "\n",
    "y_pred = best_model_pipeline.predict(X_test['review'])\n",
    "print(classification_report(y_test.values.ravel(), y_pred))"
   ]
  },
  {
   "cell_type": "markdown",
   "id": "0050a1ca-c213-45c7-8f24-83a0126023ec",
   "metadata": {},
   "source": [
    "The accuracy for the Logistic Regression model for the whole dataset using best parameters is 81%."
   ]
  },
  {
   "cell_type": "code",
   "execution_count": null,
   "id": "fef33417-fac4-475b-ab17-c2e0116435f9",
   "metadata": {},
   "outputs": [],
   "source": []
  }
 ],
 "metadata": {
  "kernelspec": {
   "display_name": "Python 3 (ipykernel)",
   "language": "python",
   "name": "python3"
  },
  "language_info": {
   "codemirror_mode": {
    "name": "ipython",
    "version": 3
   },
   "file_extension": ".py",
   "mimetype": "text/x-python",
   "name": "python",
   "nbconvert_exporter": "python",
   "pygments_lexer": "ipython3",
   "version": "3.11.4"
  },
  "toc": {
   "base_numbering": 1,
   "nav_menu": {},
   "number_sections": false,
   "sideBar": true,
   "skip_h1_title": false,
   "title_cell": "Table of Contents",
   "title_sidebar": "Contents",
   "toc_cell": false,
   "toc_position": {},
   "toc_section_display": true,
   "toc_window_display": true
  }
 },
 "nbformat": 4,
 "nbformat_minor": 5
}
