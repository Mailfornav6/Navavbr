{
 "cells": [
  {
   "cell_type": "markdown",
   "metadata": {},
   "source": [
    "- Execute the below code and complete the following questions. __DO NOT commit the csv file__ "
   ]
  },
  {
   "cell_type": "code",
   "execution_count": 1,
   "metadata": {},
   "outputs": [],
   "source": [
    "import pandas as pd\n",
    "from sklearn.datasets import make_classification\n",
    "import numpy as np\n",
    "\n",
    "def generate_data():\n",
    "    \n",
    "    X, y = make_classification(n_samples=4000, \n",
    "                          n_features=50, \n",
    "                          n_redundant=30, \n",
    "                          n_repeated=2,\n",
    "                          n_classes=2,\n",
    "                          n_clusters_per_class=1,\n",
    "                          class_sep = 0.9,\n",
    "                          random_state = 1200,\n",
    "                          scale=1\n",
    "                         )\n",
    "\n",
    "    colNames = ['var'+str(x) for x in range(50)]\n",
    "    colNames.append('target')\n",
    "\n",
    "    df = pd.DataFrame(np.concatenate((X,y.reshape(-1,1)), axis=1), columns=colNames)\n",
    "    \n",
    "    df['var0'] = np.where(df['var0'] < 0, 'a', np.where(df['var0'] < 0.5, 'b', 'c'))\n",
    "    df['var1'] = np.where(df['var1'] < -.5, 'd', np.where(df['var1'] < 0.4, 'e', 'f'))\n",
    "    df['var2'] = np.where(df['var2'] < 0, 'g', np.where(df['var2'] < 0.5, 'h', 'i'))\n",
    "\n",
    "    df.to_csv('clustering-data.csv', index=False)\n",
    "\n",
    "generate_data()"
   ]
  },
  {
   "cell_type": "code",
   "execution_count": 2,
   "metadata": {},
   "outputs": [
    {
     "data": {
      "text/html": [
       "<div>\n",
       "<style scoped>\n",
       "    .dataframe tbody tr th:only-of-type {\n",
       "        vertical-align: middle;\n",
       "    }\n",
       "\n",
       "    .dataframe tbody tr th {\n",
       "        vertical-align: top;\n",
       "    }\n",
       "\n",
       "    .dataframe thead th {\n",
       "        text-align: right;\n",
       "    }\n",
       "</style>\n",
       "<table border=\"1\" class=\"dataframe\">\n",
       "  <thead>\n",
       "    <tr style=\"text-align: right;\">\n",
       "      <th></th>\n",
       "      <th>var0</th>\n",
       "      <th>var1</th>\n",
       "      <th>var2</th>\n",
       "      <th>var3</th>\n",
       "      <th>var4</th>\n",
       "      <th>var5</th>\n",
       "      <th>var6</th>\n",
       "      <th>var7</th>\n",
       "      <th>var8</th>\n",
       "      <th>var9</th>\n",
       "      <th>...</th>\n",
       "      <th>var41</th>\n",
       "      <th>var42</th>\n",
       "      <th>var43</th>\n",
       "      <th>var44</th>\n",
       "      <th>var45</th>\n",
       "      <th>var46</th>\n",
       "      <th>var47</th>\n",
       "      <th>var48</th>\n",
       "      <th>var49</th>\n",
       "      <th>target</th>\n",
       "    </tr>\n",
       "  </thead>\n",
       "  <tbody>\n",
       "    <tr>\n",
       "      <th>0</th>\n",
       "      <td>a</td>\n",
       "      <td>d</td>\n",
       "      <td>g</td>\n",
       "      <td>-0.396805</td>\n",
       "      <td>0.678895</td>\n",
       "      <td>0.726830</td>\n",
       "      <td>-0.640008</td>\n",
       "      <td>-1.039820</td>\n",
       "      <td>-0.934986</td>\n",
       "      <td>-0.098290</td>\n",
       "      <td>...</td>\n",
       "      <td>-0.268735</td>\n",
       "      <td>0.070548</td>\n",
       "      <td>0.808570</td>\n",
       "      <td>1.523755</td>\n",
       "      <td>-0.497207</td>\n",
       "      <td>0.470146</td>\n",
       "      <td>1.095665</td>\n",
       "      <td>-0.339445</td>\n",
       "      <td>0.470146</td>\n",
       "      <td>1.0</td>\n",
       "    </tr>\n",
       "    <tr>\n",
       "      <th>1</th>\n",
       "      <td>a</td>\n",
       "      <td>d</td>\n",
       "      <td>i</td>\n",
       "      <td>-0.991416</td>\n",
       "      <td>2.359730</td>\n",
       "      <td>-0.993249</td>\n",
       "      <td>-2.486560</td>\n",
       "      <td>-3.793524</td>\n",
       "      <td>-3.316669</td>\n",
       "      <td>-0.456288</td>\n",
       "      <td>...</td>\n",
       "      <td>0.500165</td>\n",
       "      <td>0.348498</td>\n",
       "      <td>3.031635</td>\n",
       "      <td>-0.996257</td>\n",
       "      <td>-1.832063</td>\n",
       "      <td>1.907786</td>\n",
       "      <td>4.046193</td>\n",
       "      <td>-1.076047</td>\n",
       "      <td>1.907786</td>\n",
       "      <td>0.0</td>\n",
       "    </tr>\n",
       "    <tr>\n",
       "      <th>2</th>\n",
       "      <td>a</td>\n",
       "      <td>d</td>\n",
       "      <td>g</td>\n",
       "      <td>-2.075731</td>\n",
       "      <td>0.544290</td>\n",
       "      <td>-0.854121</td>\n",
       "      <td>-0.615142</td>\n",
       "      <td>-0.903471</td>\n",
       "      <td>-0.775623</td>\n",
       "      <td>-0.123449</td>\n",
       "      <td>...</td>\n",
       "      <td>0.207872</td>\n",
       "      <td>0.096783</td>\n",
       "      <td>0.734387</td>\n",
       "      <td>0.564490</td>\n",
       "      <td>-0.439069</td>\n",
       "      <td>0.483492</td>\n",
       "      <td>0.971048</td>\n",
       "      <td>-0.231717</td>\n",
       "      <td>0.483492</td>\n",
       "      <td>0.0</td>\n",
       "    </tr>\n",
       "    <tr>\n",
       "      <th>3</th>\n",
       "      <td>b</td>\n",
       "      <td>e</td>\n",
       "      <td>i</td>\n",
       "      <td>0.330885</td>\n",
       "      <td>1.100425</td>\n",
       "      <td>1.468506</td>\n",
       "      <td>0.456396</td>\n",
       "      <td>-0.663287</td>\n",
       "      <td>-1.134611</td>\n",
       "      <td>0.494358</td>\n",
       "      <td>...</td>\n",
       "      <td>0.963910</td>\n",
       "      <td>-0.474539</td>\n",
       "      <td>0.049557</td>\n",
       "      <td>-0.169026</td>\n",
       "      <td>-0.213812</td>\n",
       "      <td>-0.798086</td>\n",
       "      <td>0.419922</td>\n",
       "      <td>-1.142086</td>\n",
       "      <td>-0.798086</td>\n",
       "      <td>1.0</td>\n",
       "    </tr>\n",
       "    <tr>\n",
       "      <th>4</th>\n",
       "      <td>a</td>\n",
       "      <td>d</td>\n",
       "      <td>h</td>\n",
       "      <td>2.245218</td>\n",
       "      <td>1.039071</td>\n",
       "      <td>0.481155</td>\n",
       "      <td>-1.373746</td>\n",
       "      <td>-1.861215</td>\n",
       "      <td>-1.531545</td>\n",
       "      <td>-0.322933</td>\n",
       "      <td>...</td>\n",
       "      <td>0.040232</td>\n",
       "      <td>0.263376</td>\n",
       "      <td>1.570320</td>\n",
       "      <td>0.212608</td>\n",
       "      <td>-0.917244</td>\n",
       "      <td>1.131278</td>\n",
       "      <td>2.034796</td>\n",
       "      <td>-0.363342</td>\n",
       "      <td>1.131278</td>\n",
       "      <td>0.0</td>\n",
       "    </tr>\n",
       "  </tbody>\n",
       "</table>\n",
       "<p>5 rows × 51 columns</p>\n",
       "</div>"
      ],
      "text/plain": [
       "  var0 var1 var2      var3      var4      var5      var6      var7      var8  \\\n",
       "0    a    d    g -0.396805  0.678895  0.726830 -0.640008 -1.039820 -0.934986   \n",
       "1    a    d    i -0.991416  2.359730 -0.993249 -2.486560 -3.793524 -3.316669   \n",
       "2    a    d    g -2.075731  0.544290 -0.854121 -0.615142 -0.903471 -0.775623   \n",
       "3    b    e    i  0.330885  1.100425  1.468506  0.456396 -0.663287 -1.134611   \n",
       "4    a    d    h  2.245218  1.039071  0.481155 -1.373746 -1.861215 -1.531545   \n",
       "\n",
       "       var9  ...     var41     var42     var43     var44     var45     var46  \\\n",
       "0 -0.098290  ... -0.268735  0.070548  0.808570  1.523755 -0.497207  0.470146   \n",
       "1 -0.456288  ...  0.500165  0.348498  3.031635 -0.996257 -1.832063  1.907786   \n",
       "2 -0.123449  ...  0.207872  0.096783  0.734387  0.564490 -0.439069  0.483492   \n",
       "3  0.494358  ...  0.963910 -0.474539  0.049557 -0.169026 -0.213812 -0.798086   \n",
       "4 -0.322933  ...  0.040232  0.263376  1.570320  0.212608 -0.917244  1.131278   \n",
       "\n",
       "      var47     var48     var49  target  \n",
       "0  1.095665 -0.339445  0.470146     1.0  \n",
       "1  4.046193 -1.076047  1.907786     0.0  \n",
       "2  0.971048 -0.231717  0.483492     0.0  \n",
       "3  0.419922 -1.142086 -0.798086     1.0  \n",
       "4  2.034796 -0.363342  1.131278     0.0  \n",
       "\n",
       "[5 rows x 51 columns]"
      ]
     },
     "execution_count": 2,
     "metadata": {},
     "output_type": "execute_result"
    }
   ],
   "source": [
    "import pandas as pd\n",
    "import numpy as np\n",
    "import matplotlib.pyplot as plt\n",
    "\n",
    "df = pd.read_csv('clustering-data.csv')\n",
    "df.head()"
   ]
  },
  {
   "cell_type": "code",
   "execution_count": 3,
   "metadata": {},
   "outputs": [
    {
     "name": "stdout",
     "output_type": "stream",
     "text": [
      "<class 'pandas.core.frame.DataFrame'>\n",
      "RangeIndex: 4000 entries, 0 to 3999\n",
      "Data columns (total 51 columns):\n",
      " #   Column  Non-Null Count  Dtype  \n",
      "---  ------  --------------  -----  \n",
      " 0   var0    4000 non-null   object \n",
      " 1   var1    4000 non-null   object \n",
      " 2   var2    4000 non-null   object \n",
      " 3   var3    4000 non-null   float64\n",
      " 4   var4    4000 non-null   float64\n",
      " 5   var5    4000 non-null   float64\n",
      " 6   var6    4000 non-null   float64\n",
      " 7   var7    4000 non-null   float64\n",
      " 8   var8    4000 non-null   float64\n",
      " 9   var9    4000 non-null   float64\n",
      " 10  var10   4000 non-null   float64\n",
      " 11  var11   4000 non-null   float64\n",
      " 12  var12   4000 non-null   float64\n",
      " 13  var13   4000 non-null   float64\n",
      " 14  var14   4000 non-null   float64\n",
      " 15  var15   4000 non-null   float64\n",
      " 16  var16   4000 non-null   float64\n",
      " 17  var17   4000 non-null   float64\n",
      " 18  var18   4000 non-null   float64\n",
      " 19  var19   4000 non-null   float64\n",
      " 20  var20   4000 non-null   float64\n",
      " 21  var21   4000 non-null   float64\n",
      " 22  var22   4000 non-null   float64\n",
      " 23  var23   4000 non-null   float64\n",
      " 24  var24   4000 non-null   float64\n",
      " 25  var25   4000 non-null   float64\n",
      " 26  var26   4000 non-null   float64\n",
      " 27  var27   4000 non-null   float64\n",
      " 28  var28   4000 non-null   float64\n",
      " 29  var29   4000 non-null   float64\n",
      " 30  var30   4000 non-null   float64\n",
      " 31  var31   4000 non-null   float64\n",
      " 32  var32   4000 non-null   float64\n",
      " 33  var33   4000 non-null   float64\n",
      " 34  var34   4000 non-null   float64\n",
      " 35  var35   4000 non-null   float64\n",
      " 36  var36   4000 non-null   float64\n",
      " 37  var37   4000 non-null   float64\n",
      " 38  var38   4000 non-null   float64\n",
      " 39  var39   4000 non-null   float64\n",
      " 40  var40   4000 non-null   float64\n",
      " 41  var41   4000 non-null   float64\n",
      " 42  var42   4000 non-null   float64\n",
      " 43  var43   4000 non-null   float64\n",
      " 44  var44   4000 non-null   float64\n",
      " 45  var45   4000 non-null   float64\n",
      " 46  var46   4000 non-null   float64\n",
      " 47  var47   4000 non-null   float64\n",
      " 48  var48   4000 non-null   float64\n",
      " 49  var49   4000 non-null   float64\n",
      " 50  target  4000 non-null   float64\n",
      "dtypes: float64(48), object(3)\n",
      "memory usage: 1.6+ MB\n"
     ]
    }
   ],
   "source": [
    "df.info()"
   ]
  },
  {
   "cell_type": "markdown",
   "metadata": {},
   "source": [
    "# Data Definitions\n",
    "- `var0` - `var49`: some feature that could be used to describe the `target`.  \n",
    "- `target`: variable that contains the classes. This is your target variable."
   ]
  },
  {
   "cell_type": "code",
   "execution_count": 4,
   "metadata": {},
   "outputs": [
    {
     "data": {
      "image/png": "[encoded data removed]",
      "text/plain": [
       "<Figure size 640x480 with 1 Axes>"
      ]
     },
     "metadata": {},
     "output_type": "display_data"
    }
   ],
   "source": [
    "df.target.value_counts().plot.bar()\n",
    "plt.title('Distribution of Target', loc='left')\n",
    "plt.show()"
   ]
  },
  {
   "cell_type": "code",
   "execution_count": 5,
   "metadata": {},
   "outputs": [
    {
     "name": "stdout",
     "output_type": "stream",
     "text": [
      "Training examples: 3200\n",
      "Test examples: 800\n",
      "\n",
      "Feature names:\n",
      "var0\tvar1\tvar2\tvar3\tvar4\tvar5\tvar6\tvar7\tvar8\tvar9\tvar10\tvar11\tvar12\tvar13\tvar14\tvar15\tvar16\tvar17\tvar18\tvar19\tvar20\tvar21\tvar22\tvar23\tvar24\tvar25\tvar26\tvar27\tvar28\tvar29\tvar30\tvar31\tvar32\tvar33\tvar34\tvar35\tvar36\tvar37\tvar38\tvar39\tvar40\tvar41\tvar42\tvar43\tvar44\tvar45\tvar46\tvar47\tvar48\tvar49\n"
     ]
    }
   ],
   "source": [
    "from sklearn.model_selection import train_test_split\n",
    "X = df[[x for x in df.columns if x != 'target']]\n",
    "y = df['target']\n",
    "\n",
    "X_train, X_test, y_train, y_test = train_test_split(X, y, test_size=0.2, random_state=2303)\n",
    "\n",
    "print(f'Training examples: {X_train.shape[0]}')\n",
    "print(f'Test examples: {X_test.shape[0]}')\n",
    "print('\\nFeature names:')\n",
    "print(*X.columns, sep='\\t')"
   ]
  },
  {
   "cell_type": "markdown",
   "metadata": {},
   "source": [
    "# Question 1\n",
    "- Using `X_train`, you will perform k-means clustering using best practices.  \n",
    "- Determine what the \"optimum\" number of clusters is - support your answer.  \n",
    "- Visualize the results of your clustering using PCA.\n",
    "- Based on the visualization, how do you interpret the clustering result?"
   ]
  },
  {
   "cell_type": "code",
   "execution_count": 6,
   "metadata": {},
   "outputs": [],
   "source": [
    "from sklearn.cluster import KMeans\n",
    "from sklearn.preprocessing import StandardScaler\n",
    "from sklearn.preprocessing import OneHotEncoder\n",
    "import matplotlib.pyplot as plt\n",
    "import warnings"
   ]
  },
  {
   "cell_type": "code",
   "execution_count": 7,
   "metadata": {},
   "outputs": [],
   "source": [
    "warnings.filterwarnings('ignore')"
   ]
  },
  {
   "cell_type": "code",
   "execution_count": 8,
   "metadata": {},
   "outputs": [
    {
     "data": {
      "text/html": [
       "<div>\n",
       "<style scoped>\n",
       "    .dataframe tbody tr th:only-of-type {\n",
       "        vertical-align: middle;\n",
       "    }\n",
       "\n",
       "    .dataframe tbody tr th {\n",
       "        vertical-align: top;\n",
       "    }\n",
       "\n",
       "    .dataframe thead th {\n",
       "        text-align: right;\n",
       "    }\n",
       "</style>\n",
       "<table border=\"1\" class=\"dataframe\">\n",
       "  <thead>\n",
       "    <tr style=\"text-align: right;\">\n",
       "      <th></th>\n",
       "      <th>var0</th>\n",
       "      <th>var1</th>\n",
       "      <th>var2</th>\n",
       "      <th>var3</th>\n",
       "      <th>var4</th>\n",
       "      <th>var5</th>\n",
       "      <th>var6</th>\n",
       "      <th>var7</th>\n",
       "      <th>var8</th>\n",
       "      <th>var9</th>\n",
       "      <th>...</th>\n",
       "      <th>var40</th>\n",
       "      <th>var41</th>\n",
       "      <th>var42</th>\n",
       "      <th>var43</th>\n",
       "      <th>var44</th>\n",
       "      <th>var45</th>\n",
       "      <th>var46</th>\n",
       "      <th>var47</th>\n",
       "      <th>var48</th>\n",
       "      <th>var49</th>\n",
       "    </tr>\n",
       "  </thead>\n",
       "  <tbody>\n",
       "    <tr>\n",
       "      <th>1090</th>\n",
       "      <td>a</td>\n",
       "      <td>d</td>\n",
       "      <td>h</td>\n",
       "      <td>0.317865</td>\n",
       "      <td>0.926584</td>\n",
       "      <td>0.541300</td>\n",
       "      <td>-1.221911</td>\n",
       "      <td>-1.657592</td>\n",
       "      <td>-1.364949</td>\n",
       "      <td>-0.286609</td>\n",
       "      <td>...</td>\n",
       "      <td>-1.376076</td>\n",
       "      <td>0.263780</td>\n",
       "      <td>0.233635</td>\n",
       "      <td>1.397691</td>\n",
       "      <td>0.770146</td>\n",
       "      <td>-0.816710</td>\n",
       "      <td>1.005554</td>\n",
       "      <td>1.811685</td>\n",
       "      <td>-0.325243</td>\n",
       "      <td>1.005554</td>\n",
       "    </tr>\n",
       "    <tr>\n",
       "      <th>3573</th>\n",
       "      <td>b</td>\n",
       "      <td>f</td>\n",
       "      <td>i</td>\n",
       "      <td>-0.193610</td>\n",
       "      <td>0.766617</td>\n",
       "      <td>1.206425</td>\n",
       "      <td>0.734126</td>\n",
       "      <td>-0.177303</td>\n",
       "      <td>-0.684308</td>\n",
       "      <td>0.526515</td>\n",
       "      <td>...</td>\n",
       "      <td>0.470268</td>\n",
       "      <td>2.333090</td>\n",
       "      <td>-0.494657</td>\n",
       "      <td>-0.316812</td>\n",
       "      <td>-0.956667</td>\n",
       "      <td>0.016012</td>\n",
       "      <td>-0.990655</td>\n",
       "      <td>-0.085260</td>\n",
       "      <td>-0.960540</td>\n",
       "      <td>-0.990655</td>\n",
       "    </tr>\n",
       "    <tr>\n",
       "      <th>2677</th>\n",
       "      <td>b</td>\n",
       "      <td>e</td>\n",
       "      <td>g</td>\n",
       "      <td>1.503871</td>\n",
       "      <td>0.652745</td>\n",
       "      <td>0.079714</td>\n",
       "      <td>-0.067904</td>\n",
       "      <td>-0.625160</td>\n",
       "      <td>-0.759372</td>\n",
       "      <td>0.145059</td>\n",
       "      <td>...</td>\n",
       "      <td>-0.238441</td>\n",
       "      <td>1.028420</td>\n",
       "      <td>-0.147989</td>\n",
       "      <td>0.315265</td>\n",
       "      <td>-0.764747</td>\n",
       "      <td>-0.261055</td>\n",
       "      <td>-0.119735</td>\n",
       "      <td>0.556490</td>\n",
       "      <td>-0.543285</td>\n",
       "      <td>-0.119735</td>\n",
       "    </tr>\n",
       "    <tr>\n",
       "      <th>3591</th>\n",
       "      <td>c</td>\n",
       "      <td>f</td>\n",
       "      <td>g</td>\n",
       "      <td>-0.410990</td>\n",
       "      <td>1.219417</td>\n",
       "      <td>-0.708164</td>\n",
       "      <td>1.420922</td>\n",
       "      <td>-0.108777</td>\n",
       "      <td>-1.023930</td>\n",
       "      <td>0.948292</td>\n",
       "      <td>...</td>\n",
       "      <td>0.981440</td>\n",
       "      <td>-0.449043</td>\n",
       "      <td>-0.886637</td>\n",
       "      <td>-0.717677</td>\n",
       "      <td>0.948732</td>\n",
       "      <td>0.125828</td>\n",
       "      <td>-1.840215</td>\n",
       "      <td>-0.365459</td>\n",
       "      <td>-1.628198</td>\n",
       "      <td>-1.840215</td>\n",
       "    </tr>\n",
       "    <tr>\n",
       "      <th>288</th>\n",
       "      <td>a</td>\n",
       "      <td>d</td>\n",
       "      <td>g</td>\n",
       "      <td>-1.166192</td>\n",
       "      <td>1.166249</td>\n",
       "      <td>-1.710999</td>\n",
       "      <td>-1.204027</td>\n",
       "      <td>-1.857831</td>\n",
       "      <td>-1.632846</td>\n",
       "      <td>-0.214613</td>\n",
       "      <td>...</td>\n",
       "      <td>-1.424151</td>\n",
       "      <td>0.554357</td>\n",
       "      <td>0.162420</td>\n",
       "      <td>1.477299</td>\n",
       "      <td>1.304725</td>\n",
       "      <td>-0.895588</td>\n",
       "      <td>0.916873</td>\n",
       "      <td>1.977140</td>\n",
       "      <td>-0.541682</td>\n",
       "      <td>0.916873</td>\n",
       "    </tr>\n",
       "    <tr>\n",
       "      <th>...</th>\n",
       "      <td>...</td>\n",
       "      <td>...</td>\n",
       "      <td>...</td>\n",
       "      <td>...</td>\n",
       "      <td>...</td>\n",
       "      <td>...</td>\n",
       "      <td>...</td>\n",
       "      <td>...</td>\n",
       "      <td>...</td>\n",
       "      <td>...</td>\n",
       "      <td>...</td>\n",
       "      <td>...</td>\n",
       "      <td>...</td>\n",
       "      <td>...</td>\n",
       "      <td>...</td>\n",
       "      <td>...</td>\n",
       "      <td>...</td>\n",
       "      <td>...</td>\n",
       "      <td>...</td>\n",
       "      <td>...</td>\n",
       "      <td>...</td>\n",
       "    </tr>\n",
       "    <tr>\n",
       "      <th>2252</th>\n",
       "      <td>b</td>\n",
       "      <td>e</td>\n",
       "      <td>h</td>\n",
       "      <td>-0.979751</td>\n",
       "      <td>0.817718</td>\n",
       "      <td>-0.799178</td>\n",
       "      <td>0.681677</td>\n",
       "      <td>-0.258497</td>\n",
       "      <td>-0.755776</td>\n",
       "      <td>0.517245</td>\n",
       "      <td>...</td>\n",
       "      <td>0.408149</td>\n",
       "      <td>1.522192</td>\n",
       "      <td>-0.487662</td>\n",
       "      <td>-0.252341</td>\n",
       "      <td>-1.535119</td>\n",
       "      <td>-0.023108</td>\n",
       "      <td>-0.950801</td>\n",
       "      <td>0.001093</td>\n",
       "      <td>-0.984397</td>\n",
       "      <td>-0.950801</td>\n",
       "    </tr>\n",
       "    <tr>\n",
       "      <th>891</th>\n",
       "      <td>a</td>\n",
       "      <td>e</td>\n",
       "      <td>h</td>\n",
       "      <td>1.353333</td>\n",
       "      <td>0.113806</td>\n",
       "      <td>-2.279233</td>\n",
       "      <td>-0.320171</td>\n",
       "      <td>-0.319981</td>\n",
       "      <td>-0.211021</td>\n",
       "      <td>-0.109634</td>\n",
       "      <td>...</td>\n",
       "      <td>-0.325820</td>\n",
       "      <td>-0.128006</td>\n",
       "      <td>0.095750</td>\n",
       "      <td>0.315261</td>\n",
       "      <td>-1.696370</td>\n",
       "      <td>-0.167733</td>\n",
       "      <td>0.301153</td>\n",
       "      <td>0.376925</td>\n",
       "      <td>0.027448</td>\n",
       "      <td>0.301153</td>\n",
       "    </tr>\n",
       "    <tr>\n",
       "      <th>840</th>\n",
       "      <td>a</td>\n",
       "      <td>d</td>\n",
       "      <td>i</td>\n",
       "      <td>-1.438558</td>\n",
       "      <td>0.451089</td>\n",
       "      <td>0.906785</td>\n",
       "      <td>-0.832701</td>\n",
       "      <td>-0.969712</td>\n",
       "      <td>-0.725147</td>\n",
       "      <td>-0.243607</td>\n",
       "      <td>...</td>\n",
       "      <td>-0.889176</td>\n",
       "      <td>0.887354</td>\n",
       "      <td>0.207503</td>\n",
       "      <td>0.881221</td>\n",
       "      <td>0.147819</td>\n",
       "      <td>-0.491874</td>\n",
       "      <td>0.737938</td>\n",
       "      <td>1.097890</td>\n",
       "      <td>-0.064100</td>\n",
       "      <td>0.737938</td>\n",
       "    </tr>\n",
       "    <tr>\n",
       "      <th>3077</th>\n",
       "      <td>c</td>\n",
       "      <td>f</td>\n",
       "      <td>h</td>\n",
       "      <td>0.120141</td>\n",
       "      <td>1.306068</td>\n",
       "      <td>0.329825</td>\n",
       "      <td>1.736323</td>\n",
       "      <td>0.030223</td>\n",
       "      <td>-1.042011</td>\n",
       "      <td>1.109511</td>\n",
       "      <td>...</td>\n",
       "      <td>1.248862</td>\n",
       "      <td>-0.443300</td>\n",
       "      <td>-1.034176</td>\n",
       "      <td>-0.949697</td>\n",
       "      <td>-0.923952</td>\n",
       "      <td>0.219766</td>\n",
       "      <td>-2.194937</td>\n",
       "      <td>-0.586086</td>\n",
       "      <td>-1.828861</td>\n",
       "      <td>-2.194937</td>\n",
       "    </tr>\n",
       "    <tr>\n",
       "      <th>3666</th>\n",
       "      <td>b</td>\n",
       "      <td>e</td>\n",
       "      <td>h</td>\n",
       "      <td>-1.530872</td>\n",
       "      <td>0.448565</td>\n",
       "      <td>-0.723900</td>\n",
       "      <td>-0.145762</td>\n",
       "      <td>-0.497419</td>\n",
       "      <td>-0.547109</td>\n",
       "      <td>0.056319</td>\n",
       "      <td>...</td>\n",
       "      <td>-0.255214</td>\n",
       "      <td>-1.590643</td>\n",
       "      <td>-0.062631</td>\n",
       "      <td>0.300309</td>\n",
       "      <td>-0.748716</td>\n",
       "      <td>-0.218677</td>\n",
       "      <td>0.021220</td>\n",
       "      <td>0.472380</td>\n",
       "      <td>-0.334078</td>\n",
       "      <td>0.021220</td>\n",
       "    </tr>\n",
       "  </tbody>\n",
       "</table>\n",
       "<p>3200 rows × 50 columns</p>\n",
       "</div>"
      ],
      "text/plain": [
       "     var0 var1 var2      var3      var4      var5      var6      var7  \\\n",
       "1090    a    d    h  0.317865  0.926584  0.541300 -1.221911 -1.657592   \n",
       "3573    b    f    i -0.193610  0.766617  1.206425  0.734126 -0.177303   \n",
       "2677    b    e    g  1.503871  0.652745  0.079714 -0.067904 -0.625160   \n",
       "3591    c    f    g -0.410990  1.219417 -0.708164  1.420922 -0.108777   \n",
       "288     a    d    g -1.166192  1.166249 -1.710999 -1.204027 -1.857831   \n",
       "...   ...  ...  ...       ...       ...       ...       ...       ...   \n",
       "2252    b    e    h -0.979751  0.817718 -0.799178  0.681677 -0.258497   \n",
       "891     a    e    h  1.353333  0.113806 -2.279233 -0.320171 -0.319981   \n",
       "840     a    d    i -1.438558  0.451089  0.906785 -0.832701 -0.969712   \n",
       "3077    c    f    h  0.120141  1.306068  0.329825  1.736323  0.030223   \n",
       "3666    b    e    h -1.530872  0.448565 -0.723900 -0.145762 -0.497419   \n",
       "\n",
       "          var8      var9  ...     var40     var41     var42     var43  \\\n",
       "1090 -1.364949 -0.286609  ... -1.376076  0.263780  0.233635  1.397691   \n",
       "3573 -0.684308  0.526515  ...  0.470268  2.333090 -0.494657 -0.316812   \n",
       "2677 -0.759372  0.145059  ... -0.238441  1.028420 -0.147989  0.315265   \n",
       "3591 -1.023930  0.948292  ...  0.981440 -0.449043 -0.886637 -0.717677   \n",
       "288  -1.632846 -0.214613  ... -1.424151  0.554357  0.162420  1.477299   \n",
       "...        ...       ...  ...       ...       ...       ...       ...   \n",
       "2252 -0.755776  0.517245  ...  0.408149  1.522192 -0.487662 -0.252341   \n",
       "891  -0.211021 -0.109634  ... -0.325820 -0.128006  0.095750  0.315261   \n",
       "840  -0.725147 -0.243607  ... -0.889176  0.887354  0.207503  0.881221   \n",
       "3077 -1.042011  1.109511  ...  1.248862 -0.443300 -1.034176 -0.949697   \n",
       "3666 -0.547109  0.056319  ... -0.255214 -1.590643 -0.062631  0.300309   \n",
       "\n",
       "         var44     var45     var46     var47     var48     var49  \n",
       "1090  0.770146 -0.816710  1.005554  1.811685 -0.325243  1.005554  \n",
       "3573 -0.956667  0.016012 -0.990655 -0.085260 -0.960540 -0.990655  \n",
       "2677 -0.764747 -0.261055 -0.119735  0.556490 -0.543285 -0.119735  \n",
       "3591  0.948732  0.125828 -1.840215 -0.365459 -1.628198 -1.840215  \n",
       "288   1.304725 -0.895588  0.916873  1.977140 -0.541682  0.916873  \n",
       "...        ...       ...       ...       ...       ...       ...  \n",
       "2252 -1.535119 -0.023108 -0.950801  0.001093 -0.984397 -0.950801  \n",
       "891  -1.696370 -0.167733  0.301153  0.376925  0.027448  0.301153  \n",
       "840   0.147819 -0.491874  0.737938  1.097890 -0.064100  0.737938  \n",
       "3077 -0.923952  0.219766 -2.194937 -0.586086 -1.828861 -2.194937  \n",
       "3666 -0.748716 -0.218677  0.021220  0.472380 -0.334078  0.021220  \n",
       "\n",
       "[3200 rows x 50 columns]"
      ]
     },
     "execution_count": 8,
     "metadata": {},
     "output_type": "execute_result"
    }
   ],
   "source": [
    "X_train"
   ]
  },
  {
   "cell_type": "code",
   "execution_count": 9,
   "metadata": {},
   "outputs": [],
   "source": [
    "encoder = OneHotEncoder()\n",
    "\n",
    "X_train_encoded = encoder.fit_transform(X_train[['var0', 'var1', 'var2']])\n",
    "X_test_encoded = encoder.transform(X_test[['var0', 'var1', 'var2']])\n",
    "\n",
    "X_train_final = np.hstack((X_train.drop(['var0', 'var1', 'var2'], axis=1), X_train_encoded.toarray()))\n",
    "X_test_final = np.hstack((X_test.drop(['var0', 'var1', 'var2'], axis=1), X_test_encoded.toarray()))"
   ]
  },
  {
   "cell_type": "code",
   "execution_count": 10,
   "metadata": {},
   "outputs": [],
   "source": [
    "scaler = StandardScaler()\n",
    "X_train_scaled = scaler.fit_transform(X_train_final)\n",
    "X_test_scaled = scaler.transform(X_test_final)"
   ]
  },
  {
   "cell_type": "code",
   "execution_count": 11,
   "metadata": {},
   "outputs": [],
   "source": [
    "inertia = []\n",
    "for n_clusters in range(2, 11):\n",
    "    kmeans = KMeans(n_clusters=n_clusters, random_state=42)\n",
    "    kmeans.fit(X_train_scaled)\n",
    "    inertia.append(kmeans.inertia_)"
   ]
  },
  {
   "cell_type": "code",
   "execution_count": 12,
   "metadata": {},
   "outputs": [
    {
     "data": {
      "image/png": "[encoded data removed]",
      "text/plain": [
       "<Figure size 800x600 with 1 Axes>"
      ]
     },
     "metadata": {},
     "output_type": "display_data"
    }
   ],
   "source": [
    "plt.figure(figsize=(8, 6))\n",
    "plt.plot(range(2, 11), inertia, 'bx-')\n",
    "plt.xlabel('Number of clusters')\n",
    "plt.ylabel('Inertia')\n",
    "plt.title('Elbow method for optimal number of clusters')\n",
    "plt.show()"
   ]
  },
  {
   "cell_type": "markdown",
   "metadata": {},
   "source": [
    "Insert conclusions\n",
    "\n",
    "Based on the elbow plot, the optimal number of clusters appears to be around 4 or 5. The clusters are well-defined and separated, indicating the k-means algorithm effectively partitioned the data into meaningful subgroups. 4 or 5 clusters provide a good balance between capturing the underlying structure and avoiding over-fitting."
   ]
  },
  {
   "cell_type": "markdown",
   "metadata": {},
   "source": [
    "# Question 2\n",
    "- Using `X_train` and `y_train`, create a logistic regression model. Then evaluate the performance on the test data. The only preprocessing steps you should include are scaling and one hot encoding.    \n",
    "- Using cross-validation and grid search on the regularization strength using best practices.\n",
    "- Provide a ROC chart and provide accuracy, precision, and recall.  \n",
    "- What is your opinion of the model's performance?"
   ]
  },
  {
   "cell_type": "code",
   "execution_count": 13,
   "metadata": {},
   "outputs": [],
   "source": [
    "from sklearn.pipeline import Pipeline\n",
    "from sklearn.preprocessing import StandardScaler, OneHotEncoder\n",
    "from sklearn.linear_model import LogisticRegression\n",
    "from sklearn.model_selection import GridSearchCV, cross_val_score\n",
    "from sklearn.metrics import accuracy_score, precision_score, recall_score, roc_curve, auc"
   ]
  },
  {
   "cell_type": "code",
   "execution_count": 14,
   "metadata": {},
   "outputs": [],
   "source": [
    "pipeline = Pipeline([\n",
    "    ('scaler', StandardScaler()),\n",
    "    ('encoder', OneHotEncoder(handle_unknown='ignore')),\n",
    "    ('classifier', LogisticRegression())\n",
    "])"
   ]
  },
  {
   "cell_type": "code",
   "execution_count": 15,
   "metadata": {},
   "outputs": [],
   "source": [
    "param_grid = {\n",
    "    'classifier__C': [0.1, 1, 10]\n",
    "}"
   ]
  },
  {
   "cell_type": "code",
   "execution_count": 16,
   "metadata": {},
   "outputs": [
    {
     "data": {
      "text/html": [
       "<style>#sk-container-id-1 {color: black;}#sk-container-id-1 pre{padding: 0;}#sk-container-id-1 div.sk-toggleable {background-color: white;}#sk-container-id-1 label.sk-toggleable__label {cursor: pointer;display: block;width: 100%;margin-bottom: 0;padding: 0.3em;box-sizing: border-box;text-align: center;}#sk-container-id-1 label.sk-toggleable__label-arrow:before {content: \"▸\";float: left;margin-right: 0.25em;color: #696969;}#sk-container-id-1 label.sk-toggleable__label-arrow:hover:before {color: black;}#sk-container-id-1 div.sk-estimator:hover label.sk-toggleable__label-arrow:before {color: black;}#sk-container-id-1 div.sk-toggleable__content {max-height: 0;max-width: 0;overflow: hidden;text-align: left;background-color: #f0f8ff;}#sk-container-id-1 div.sk-toggleable__content pre {margin: 0.2em;color: black;border-radius: 0.25em;background-color: #f0f8ff;}#sk-container-id-1 input.sk-toggleable__control:checked~div.sk-toggleable__content {max-height: 200px;max-width: 100%;overflow: auto;}#sk-container-id-1 input.sk-toggleable__control:checked~label.sk-toggleable__label-arrow:before {content: \"▾\";}#sk-container-id-1 div.sk-estimator input.sk-toggleable__control:checked~label.sk-toggleable__label {background-color: #d4ebff;}#sk-container-id-1 div.sk-label input.sk-toggleable__control:checked~label.sk-toggleable__label {background-color: #d4ebff;}#sk-container-id-1 input.sk-hidden--visually {border: 0;clip: rect(1px 1px 1px 1px);clip: rect(1px, 1px, 1px, 1px);height: 1px;margin: -1px;overflow: hidden;padding: 0;position: absolute;width: 1px;}#sk-container-id-1 div.sk-estimator {font-family: monospace;background-color: #f0f8ff;border: 1px dotted black;border-radius: 0.25em;box-sizing: border-box;margin-bottom: 0.5em;}#sk-container-id-1 div.sk-estimator:hover {background-color: #d4ebff;}#sk-container-id-1 div.sk-parallel-item::after {content: \"\";width: 100%;border-bottom: 1px solid gray;flex-grow: 1;}#sk-container-id-1 div.sk-label:hover label.sk-toggleable__label {background-color: #d4ebff;}#sk-container-id-1 div.sk-serial::before {content: \"\";position: absolute;border-left: 1px solid gray;box-sizing: border-box;top: 0;bottom: 0;left: 50%;z-index: 0;}#sk-container-id-1 div.sk-serial {display: flex;flex-direction: column;align-items: center;background-color: white;padding-right: 0.2em;padding-left: 0.2em;position: relative;}#sk-container-id-1 div.sk-item {position: relative;z-index: 1;}#sk-container-id-1 div.sk-parallel {display: flex;align-items: stretch;justify-content: center;background-color: white;position: relative;}#sk-container-id-1 div.sk-item::before, #sk-container-id-1 div.sk-parallel-item::before {content: \"\";position: absolute;border-left: 1px solid gray;box-sizing: border-box;top: 0;bottom: 0;left: 50%;z-index: -1;}#sk-container-id-1 div.sk-parallel-item {display: flex;flex-direction: column;z-index: 1;position: relative;background-color: white;}#sk-container-id-1 div.sk-parallel-item:first-child::after {align-self: flex-end;width: 50%;}#sk-container-id-1 div.sk-parallel-item:last-child::after {align-self: flex-start;width: 50%;}#sk-container-id-1 div.sk-parallel-item:only-child::after {width: 0;}#sk-container-id-1 div.sk-dashed-wrapped {border: 1px dashed gray;margin: 0 0.4em 0.5em 0.4em;box-sizing: border-box;padding-bottom: 0.4em;background-color: white;}#sk-container-id-1 div.sk-label label {font-family: monospace;font-weight: bold;display: inline-block;line-height: 1.2em;}#sk-container-id-1 div.sk-label-container {text-align: center;}#sk-container-id-1 div.sk-container {/* jupyter's `normalize.less` sets `[hidden] { display: none; }` but bootstrap.min.css set `[hidden] { display: none !important; }` so we also need the `!important` here to be able to override the default hidden behavior on the sphinx rendered scikit-learn.org. See: https://github.com/scikit-learn/scikit-learn/issues/21755 */display: inline-block !important;position: relative;}#sk-container-id-1 div.sk-text-repr-fallback {display: none;}</style><div id=\"sk-container-id-1\" class=\"sk-top-container\"><div class=\"sk-text-repr-fallback\"><pre>GridSearchCV(cv=5,\n",
       "             estimator=Pipeline(steps=[(&#x27;scaler&#x27;, StandardScaler()),\n",
       "                                       (&#x27;encoder&#x27;,\n",
       "                                        OneHotEncoder(handle_unknown=&#x27;ignore&#x27;)),\n",
       "                                       (&#x27;classifier&#x27;, LogisticRegression())]),\n",
       "             param_grid={&#x27;classifier__C&#x27;: [0.1, 1, 10]})</pre><b>In a Jupyter environment, please rerun this cell to show the HTML representation or trust the notebook. <br />On GitHub, the HTML representation is unable to render, please try loading this page with nbviewer.org.</b></div><div class=\"sk-container\" hidden><div class=\"sk-item sk-dashed-wrapped\"><div class=\"sk-label-container\"><div class=\"sk-label sk-toggleable\"><input class=\"sk-toggleable__control sk-hidden--visually\" id=\"sk-estimator-id-1\" type=\"checkbox\" ><label for=\"sk-estimator-id-1\" class=\"sk-toggleable__label sk-toggleable__label-arrow\">GridSearchCV</label><div class=\"sk-toggleable__content\"><pre>GridSearchCV(cv=5,\n",
       "             estimator=Pipeline(steps=[(&#x27;scaler&#x27;, StandardScaler()),\n",
       "                                       (&#x27;encoder&#x27;,\n",
       "                                        OneHotEncoder(handle_unknown=&#x27;ignore&#x27;)),\n",
       "                                       (&#x27;classifier&#x27;, LogisticRegression())]),\n",
       "             param_grid={&#x27;classifier__C&#x27;: [0.1, 1, 10]})</pre></div></div></div><div class=\"sk-parallel\"><div class=\"sk-parallel-item\"><div class=\"sk-item\"><div class=\"sk-label-container\"><div class=\"sk-label sk-toggleable\"><input class=\"sk-toggleable__control sk-hidden--visually\" id=\"sk-estimator-id-2\" type=\"checkbox\" ><label for=\"sk-estimator-id-2\" class=\"sk-toggleable__label sk-toggleable__label-arrow\">estimator: Pipeline</label><div class=\"sk-toggleable__content\"><pre>Pipeline(steps=[(&#x27;scaler&#x27;, StandardScaler()),\n",
       "                (&#x27;encoder&#x27;, OneHotEncoder(handle_unknown=&#x27;ignore&#x27;)),\n",
       "                (&#x27;classifier&#x27;, LogisticRegression())])</pre></div></div></div><div class=\"sk-serial\"><div class=\"sk-item\"><div class=\"sk-serial\"><div class=\"sk-item\"><div class=\"sk-estimator sk-toggleable\"><input class=\"sk-toggleable__control sk-hidden--visually\" id=\"sk-estimator-id-3\" type=\"checkbox\" ><label for=\"sk-estimator-id-3\" class=\"sk-toggleable__label sk-toggleable__label-arrow\">StandardScaler</label><div class=\"sk-toggleable__content\"><pre>StandardScaler()</pre></div></div></div><div class=\"sk-item\"><div class=\"sk-estimator sk-toggleable\"><input class=\"sk-toggleable__control sk-hidden--visually\" id=\"sk-estimator-id-4\" type=\"checkbox\" ><label for=\"sk-estimator-id-4\" class=\"sk-toggleable__label sk-toggleable__label-arrow\">OneHotEncoder</label><div class=\"sk-toggleable__content\"><pre>OneHotEncoder(handle_unknown=&#x27;ignore&#x27;)</pre></div></div></div><div class=\"sk-item\"><div class=\"sk-estimator sk-toggleable\"><input class=\"sk-toggleable__control sk-hidden--visually\" id=\"sk-estimator-id-5\" type=\"checkbox\" ><label for=\"sk-estimator-id-5\" class=\"sk-toggleable__label sk-toggleable__label-arrow\">LogisticRegression</label><div class=\"sk-toggleable__content\"><pre>LogisticRegression()</pre></div></div></div></div></div></div></div></div></div></div></div></div>"
      ],
      "text/plain": [
       "GridSearchCV(cv=5,\n",
       "             estimator=Pipeline(steps=[('scaler', StandardScaler()),\n",
       "                                       ('encoder',\n",
       "                                        OneHotEncoder(handle_unknown='ignore')),\n",
       "                                       ('classifier', LogisticRegression())]),\n",
       "             param_grid={'classifier__C': [0.1, 1, 10]})"
      ]
     },
     "execution_count": 16,
     "metadata": {},
     "output_type": "execute_result"
    }
   ],
   "source": [
    "grid_search = GridSearchCV(pipeline, param_grid, cv=5)\n",
    "grid_search.fit(X_train_final, y_train)"
   ]
  },
  {
   "cell_type": "code",
   "execution_count": 17,
   "metadata": {},
   "outputs": [],
   "source": [
    "y_pred = grid_search.predict(X_test_final)\n",
    "accuracy = accuracy_score(y_test, y_pred)\n",
    "precision = precision_score(y_test, y_pred)\n",
    "recall = recall_score(y_test, y_pred)"
   ]
  },
  {
   "cell_type": "code",
   "execution_count": 18,
   "metadata": {},
   "outputs": [
    {
     "name": "stdout",
     "output_type": "stream",
     "text": [
      "Accuracy: 0.91\n",
      "Precision: 0.97\n",
      "Recall: 0.84\n"
     ]
    }
   ],
   "source": [
    "print(f'Accuracy: {accuracy:.2f}')\n",
    "print(f'Precision: {precision:.2f}')\n",
    "print(f'Recall: {recall:.2f}')"
   ]
  },
  {
   "cell_type": "code",
   "execution_count": 19,
   "metadata": {},
   "outputs": [
    {
     "data": {
      "image/png": "[encoded data removed]",
      "text/plain": [
       "<Figure size 800x600 with 1 Axes>"
      ]
     },
     "metadata": {},
     "output_type": "display_data"
    }
   ],
   "source": [
    "y_pred_proba = grid_search.predict_proba(X_test_final)[:, 1]\n",
    "fpr, tpr, _ = roc_curve(y_test, y_pred_proba)\n",
    "roc_auc = auc(fpr, tpr)\n",
    "\n",
    "plt.figure(figsize=(8, 6))\n",
    "plt.plot(fpr, tpr, color='darkorange', lw=2, label='ROC curve (AUC = %0.2f)' % roc_auc)\n",
    "plt.plot([0, 1], [0, 1], color='navy', lw=2, linestyle='--')\n",
    "plt.xlim([0.0, 1.0])\n",
    "plt.ylim([0.0, 1.05])\n",
    "plt.xlabel('False Positive Rate')\n",
    "plt.ylabel('True Positive Rate')\n",
    "plt.title('Receiver Operating Characteristic (ROC) Curve')\n",
    "plt.legend(loc=\"lower right\")\n",
    "plt.show()"
   ]
  },
  {
   "cell_type": "markdown",
   "metadata": {},
   "source": [
    "Insert conclusions\n",
    "\n",
    "The model's performance, as depicted by the ROC curve, is excellent. The area under the curve (AUC) is 0.93, indicating a highly accurate classifier. The curve shows a steep rise towards the top-left corner, suggesting the model has a good balance between true positive rate and false positive rate. Overall, the model exhibits a very strong performance for the given classification task."
   ]
  },
  {
   "cell_type": "markdown",
   "metadata": {},
   "source": [
    "# Question 3\n",
    "- Using `X_train` and `y_train`, create a logistic regression model, that includes a pipeline step that uses PCA.  \n",
    "- Perform a grid search on various number of components and regularization strengths using best practices.\n",
    "- Provide a ROC chart and provide accuracy, precision, and recall.  \n",
    "- What is your opinion of the model's performance?"
   ]
  },
  {
   "cell_type": "code",
   "execution_count": 20,
   "metadata": {},
   "outputs": [],
   "source": [
    "from sklearn.decomposition import PCA"
   ]
  },
  {
   "cell_type": "code",
   "execution_count": 21,
   "metadata": {},
   "outputs": [],
   "source": [
    "pipeline = Pipeline([\n",
    "    ('scaler', StandardScaler()),\n",
    "    ('pca', PCA()),\n",
    "    ('classifier', LogisticRegression())\n",
    "])"
   ]
  },
  {
   "cell_type": "code",
   "execution_count": 22,
   "metadata": {},
   "outputs": [],
   "source": [
    "param_grid = {\n",
    "    'pca__n_components': [5, 10, 15, 20],\n",
    "    'classifier__C': [0.1, 1, 10]\n",
    "}"
   ]
  },
  {
   "cell_type": "code",
   "execution_count": 23,
   "metadata": {},
   "outputs": [
    {
     "data": {
      "text/html": [
       "<style>#sk-container-id-2 {color: black;}#sk-container-id-2 pre{padding: 0;}#sk-container-id-2 div.sk-toggleable {background-color: white;}#sk-container-id-2 label.sk-toggleable__label {cursor: pointer;display: block;width: 100%;margin-bottom: 0;padding: 0.3em;box-sizing: border-box;text-align: center;}#sk-container-id-2 label.sk-toggleable__label-arrow:before {content: \"▸\";float: left;margin-right: 0.25em;color: #696969;}#sk-container-id-2 label.sk-toggleable__label-arrow:hover:before {color: black;}#sk-container-id-2 div.sk-estimator:hover label.sk-toggleable__label-arrow:before {color: black;}#sk-container-id-2 div.sk-toggleable__content {max-height: 0;max-width: 0;overflow: hidden;text-align: left;background-color: #f0f8ff;}#sk-container-id-2 div.sk-toggleable__content pre {margin: 0.2em;color: black;border-radius: 0.25em;background-color: #f0f8ff;}#sk-container-id-2 input.sk-toggleable__control:checked~div.sk-toggleable__content {max-height: 200px;max-width: 100%;overflow: auto;}#sk-container-id-2 input.sk-toggleable__control:checked~label.sk-toggleable__label-arrow:before {content: \"▾\";}#sk-container-id-2 div.sk-estimator input.sk-toggleable__control:checked~label.sk-toggleable__label {background-color: #d4ebff;}#sk-container-id-2 div.sk-label input.sk-toggleable__control:checked~label.sk-toggleable__label {background-color: #d4ebff;}#sk-container-id-2 input.sk-hidden--visually {border: 0;clip: rect(1px 1px 1px 1px);clip: rect(1px, 1px, 1px, 1px);height: 1px;margin: -1px;overflow: hidden;padding: 0;position: absolute;width: 1px;}#sk-container-id-2 div.sk-estimator {font-family: monospace;background-color: #f0f8ff;border: 1px dotted black;border-radius: 0.25em;box-sizing: border-box;margin-bottom: 0.5em;}#sk-container-id-2 div.sk-estimator:hover {background-color: #d4ebff;}#sk-container-id-2 div.sk-parallel-item::after {content: \"\";width: 100%;border-bottom: 1px solid gray;flex-grow: 1;}#sk-container-id-2 div.sk-label:hover label.sk-toggleable__label {background-color: #d4ebff;}#sk-container-id-2 div.sk-serial::before {content: \"\";position: absolute;border-left: 1px solid gray;box-sizing: border-box;top: 0;bottom: 0;left: 50%;z-index: 0;}#sk-container-id-2 div.sk-serial {display: flex;flex-direction: column;align-items: center;background-color: white;padding-right: 0.2em;padding-left: 0.2em;position: relative;}#sk-container-id-2 div.sk-item {position: relative;z-index: 1;}#sk-container-id-2 div.sk-parallel {display: flex;align-items: stretch;justify-content: center;background-color: white;position: relative;}#sk-container-id-2 div.sk-item::before, #sk-container-id-2 div.sk-parallel-item::before {content: \"\";position: absolute;border-left: 1px solid gray;box-sizing: border-box;top: 0;bottom: 0;left: 50%;z-index: -1;}#sk-container-id-2 div.sk-parallel-item {display: flex;flex-direction: column;z-index: 1;position: relative;background-color: white;}#sk-container-id-2 div.sk-parallel-item:first-child::after {align-self: flex-end;width: 50%;}#sk-container-id-2 div.sk-parallel-item:last-child::after {align-self: flex-start;width: 50%;}#sk-container-id-2 div.sk-parallel-item:only-child::after {width: 0;}#sk-container-id-2 div.sk-dashed-wrapped {border: 1px dashed gray;margin: 0 0.4em 0.5em 0.4em;box-sizing: border-box;padding-bottom: 0.4em;background-color: white;}#sk-container-id-2 div.sk-label label {font-family: monospace;font-weight: bold;display: inline-block;line-height: 1.2em;}#sk-container-id-2 div.sk-label-container {text-align: center;}#sk-container-id-2 div.sk-container {/* jupyter's `normalize.less` sets `[hidden] { display: none; }` but bootstrap.min.css set `[hidden] { display: none !important; }` so we also need the `!important` here to be able to override the default hidden behavior on the sphinx rendered scikit-learn.org. See: https://github.com/scikit-learn/scikit-learn/issues/21755 */display: inline-block !important;position: relative;}#sk-container-id-2 div.sk-text-repr-fallback {display: none;}</style><div id=\"sk-container-id-2\" class=\"sk-top-container\"><div class=\"sk-text-repr-fallback\"><pre>GridSearchCV(cv=5,\n",
       "             estimator=Pipeline(steps=[(&#x27;scaler&#x27;, StandardScaler()),\n",
       "                                       (&#x27;pca&#x27;, PCA()),\n",
       "                                       (&#x27;classifier&#x27;, LogisticRegression())]),\n",
       "             param_grid={&#x27;classifier__C&#x27;: [0.1, 1, 10],\n",
       "                         &#x27;pca__n_components&#x27;: [5, 10, 15, 20]})</pre><b>In a Jupyter environment, please rerun this cell to show the HTML representation or trust the notebook. <br />On GitHub, the HTML representation is unable to render, please try loading this page with nbviewer.org.</b></div><div class=\"sk-container\" hidden><div class=\"sk-item sk-dashed-wrapped\"><div class=\"sk-label-container\"><div class=\"sk-label sk-toggleable\"><input class=\"sk-toggleable__control sk-hidden--visually\" id=\"sk-estimator-id-6\" type=\"checkbox\" ><label for=\"sk-estimator-id-6\" class=\"sk-toggleable__label sk-toggleable__label-arrow\">GridSearchCV</label><div class=\"sk-toggleable__content\"><pre>GridSearchCV(cv=5,\n",
       "             estimator=Pipeline(steps=[(&#x27;scaler&#x27;, StandardScaler()),\n",
       "                                       (&#x27;pca&#x27;, PCA()),\n",
       "                                       (&#x27;classifier&#x27;, LogisticRegression())]),\n",
       "             param_grid={&#x27;classifier__C&#x27;: [0.1, 1, 10],\n",
       "                         &#x27;pca__n_components&#x27;: [5, 10, 15, 20]})</pre></div></div></div><div class=\"sk-parallel\"><div class=\"sk-parallel-item\"><div class=\"sk-item\"><div class=\"sk-label-container\"><div class=\"sk-label sk-toggleable\"><input class=\"sk-toggleable__control sk-hidden--visually\" id=\"sk-estimator-id-7\" type=\"checkbox\" ><label for=\"sk-estimator-id-7\" class=\"sk-toggleable__label sk-toggleable__label-arrow\">estimator: Pipeline</label><div class=\"sk-toggleable__content\"><pre>Pipeline(steps=[(&#x27;scaler&#x27;, StandardScaler()), (&#x27;pca&#x27;, PCA()),\n",
       "                (&#x27;classifier&#x27;, LogisticRegression())])</pre></div></div></div><div class=\"sk-serial\"><div class=\"sk-item\"><div class=\"sk-serial\"><div class=\"sk-item\"><div class=\"sk-estimator sk-toggleable\"><input class=\"sk-toggleable__control sk-hidden--visually\" id=\"sk-estimator-id-8\" type=\"checkbox\" ><label for=\"sk-estimator-id-8\" class=\"sk-toggleable__label sk-toggleable__label-arrow\">StandardScaler</label><div class=\"sk-toggleable__content\"><pre>StandardScaler()</pre></div></div></div><div class=\"sk-item\"><div class=\"sk-estimator sk-toggleable\"><input class=\"sk-toggleable__control sk-hidden--visually\" id=\"sk-estimator-id-9\" type=\"checkbox\" ><label for=\"sk-estimator-id-9\" class=\"sk-toggleable__label sk-toggleable__label-arrow\">PCA</label><div class=\"sk-toggleable__content\"><pre>PCA()</pre></div></div></div><div class=\"sk-item\"><div class=\"sk-estimator sk-toggleable\"><input class=\"sk-toggleable__control sk-hidden--visually\" id=\"sk-estimator-id-10\" type=\"checkbox\" ><label for=\"sk-estimator-id-10\" class=\"sk-toggleable__label sk-toggleable__label-arrow\">LogisticRegression</label><div class=\"sk-toggleable__content\"><pre>LogisticRegression()</pre></div></div></div></div></div></div></div></div></div></div></div></div>"
      ],
      "text/plain": [
       "GridSearchCV(cv=5,\n",
       "             estimator=Pipeline(steps=[('scaler', StandardScaler()),\n",
       "                                       ('pca', PCA()),\n",
       "                                       ('classifier', LogisticRegression())]),\n",
       "             param_grid={'classifier__C': [0.1, 1, 10],\n",
       "                         'pca__n_components': [5, 10, 15, 20]})"
      ]
     },
     "execution_count": 23,
     "metadata": {},
     "output_type": "execute_result"
    }
   ],
   "source": [
    "grid_search = GridSearchCV(pipeline, param_grid, cv=5)\n",
    "grid_search.fit(X_train_final, y_train)"
   ]
  },
  {
   "cell_type": "code",
   "execution_count": 24,
   "metadata": {},
   "outputs": [],
   "source": [
    "y_pred = grid_search.predict(X_test_final)\n",
    "accuracy = accuracy_score(y_test, y_pred)\n",
    "precision = precision_score(y_test, y_pred)\n",
    "recall = recall_score(y_test, y_pred)"
   ]
  },
  {
   "cell_type": "code",
   "execution_count": 25,
   "metadata": {},
   "outputs": [
    {
     "name": "stdout",
     "output_type": "stream",
     "text": [
      "Accuracy: 0.93\n",
      "Precision: 0.99\n",
      "Recall: 0.87\n"
     ]
    }
   ],
   "source": [
    "print(f'Accuracy: {accuracy:.2f}')\n",
    "print(f'Precision: {precision:.2f}')\n",
    "print(f'Recall: {recall:.2f}')"
   ]
  },
  {
   "cell_type": "code",
   "execution_count": 26,
   "metadata": {},
   "outputs": [],
   "source": [
    "y_pred_proba = grid_search.predict_proba(X_test_final)[:, 1]\n",
    "fpr, tpr, _ = roc_curve(y_test, y_pred_proba)\n",
    "roc_auc = auc(fpr, tpr)"
   ]
  },
  {
   "cell_type": "code",
   "execution_count": 27,
   "metadata": {},
   "outputs": [
    {
     "data": {
      "image/png": "[encoded data removed]",
      "text/plain": [
       "<Figure size 800x600 with 1 Axes>"
      ]
     },
     "metadata": {},
     "output_type": "display_data"
    }
   ],
   "source": [
    "plt.figure(figsize=(8, 6))\n",
    "plt.plot(fpr, tpr, color='darkorange', lw=2, label='ROC curve (AUC = %0.2f)' % roc_auc)\n",
    "plt.plot([0, 1], [0, 1], color='navy', lw=2, linestyle='--')\n",
    "plt.xlim([0.0, 1.0])\n",
    "plt.ylim([0.0, 1.05])\n",
    "plt.xlabel('False Positive Rate')\n",
    "plt.ylabel('True Positive Rate')\n",
    "plt.title('Receiver Operating Characteristic (ROC) Curve')\n",
    "plt.legend(loc=\"lower right\")\n",
    "plt.show()"
   ]
  },
  {
   "cell_type": "markdown",
   "metadata": {},
   "source": [
    "Insert conclusions\n",
    "\n",
    "The model's performance is excellent, with an AUC of 0.93 on the ROC curve. The steep rise towards the top-left corner indicates the model achieves a high true positive rate while maintaining a low false positive rate. Overall, the logistic regression model with PCA preprocessing is highly effective for this classification task."
   ]
  },
  {
   "cell_type": "markdown",
   "metadata": {},
   "source": [
    "# Question 4\n",
    "- Using `X_train` and `y_train`, create a logistic regression model, that includes a pipeline step that uses k-means clustering as a processing step.  \n",
    "- Use grid search and evaluate multiple cluster numbers and regularization strengths using best practices.\n",
    "- Provide a ROC chart and provide accuracy, precision, and recall.  \n",
    "- What is your opinion of the model's performance?"
   ]
  },
  {
   "cell_type": "code",
   "execution_count": 28,
   "metadata": {},
   "outputs": [],
   "source": [
    "from sklearn.cluster import KMeans"
   ]
  },
  {
   "cell_type": "code",
   "execution_count": 29,
   "metadata": {},
   "outputs": [],
   "source": [
    "pipeline = Pipeline([\n",
    "    ('scaler', StandardScaler()),\n",
    "    ('kmeans', KMeans()),\n",
    "    ('encoder', OneHotEncoder(handle_unknown='ignore')),\n",
    "    ('classifier', LogisticRegression())\n",
    "])"
   ]
  },
  {
   "cell_type": "code",
   "execution_count": 30,
   "metadata": {},
   "outputs": [],
   "source": [
    "param_grid = {\n",
    "    'kmeans__n_clusters': [2, 4, 6, 8],\n",
    "    'classifier__C': [0.1, 1, 10]\n",
    "}\n"
   ]
  },
  {
   "cell_type": "code",
   "execution_count": 31,
   "metadata": {},
   "outputs": [
    {
     "data": {
      "text/html": [
       "<style>#sk-container-id-3 {color: black;}#sk-container-id-3 pre{padding: 0;}#sk-container-id-3 div.sk-toggleable {background-color: white;}#sk-container-id-3 label.sk-toggleable__label {cursor: pointer;display: block;width: 100%;margin-bottom: 0;padding: 0.3em;box-sizing: border-box;text-align: center;}#sk-container-id-3 label.sk-toggleable__label-arrow:before {content: \"▸\";float: left;margin-right: 0.25em;color: #696969;}#sk-container-id-3 label.sk-toggleable__label-arrow:hover:before {color: black;}#sk-container-id-3 div.sk-estimator:hover label.sk-toggleable__label-arrow:before {color: black;}#sk-container-id-3 div.sk-toggleable__content {max-height: 0;max-width: 0;overflow: hidden;text-align: left;background-color: #f0f8ff;}#sk-container-id-3 div.sk-toggleable__content pre {margin: 0.2em;color: black;border-radius: 0.25em;background-color: #f0f8ff;}#sk-container-id-3 input.sk-toggleable__control:checked~div.sk-toggleable__content {max-height: 200px;max-width: 100%;overflow: auto;}#sk-container-id-3 input.sk-toggleable__control:checked~label.sk-toggleable__label-arrow:before {content: \"▾\";}#sk-container-id-3 div.sk-estimator input.sk-toggleable__control:checked~label.sk-toggleable__label {background-color: #d4ebff;}#sk-container-id-3 div.sk-label input.sk-toggleable__control:checked~label.sk-toggleable__label {background-color: #d4ebff;}#sk-container-id-3 input.sk-hidden--visually {border: 0;clip: rect(1px 1px 1px 1px);clip: rect(1px, 1px, 1px, 1px);height: 1px;margin: -1px;overflow: hidden;padding: 0;position: absolute;width: 1px;}#sk-container-id-3 div.sk-estimator {font-family: monospace;background-color: #f0f8ff;border: 1px dotted black;border-radius: 0.25em;box-sizing: border-box;margin-bottom: 0.5em;}#sk-container-id-3 div.sk-estimator:hover {background-color: #d4ebff;}#sk-container-id-3 div.sk-parallel-item::after {content: \"\";width: 100%;border-bottom: 1px solid gray;flex-grow: 1;}#sk-container-id-3 div.sk-label:hover label.sk-toggleable__label {background-color: #d4ebff;}#sk-container-id-3 div.sk-serial::before {content: \"\";position: absolute;border-left: 1px solid gray;box-sizing: border-box;top: 0;bottom: 0;left: 50%;z-index: 0;}#sk-container-id-3 div.sk-serial {display: flex;flex-direction: column;align-items: center;background-color: white;padding-right: 0.2em;padding-left: 0.2em;position: relative;}#sk-container-id-3 div.sk-item {position: relative;z-index: 1;}#sk-container-id-3 div.sk-parallel {display: flex;align-items: stretch;justify-content: center;background-color: white;position: relative;}#sk-container-id-3 div.sk-item::before, #sk-container-id-3 div.sk-parallel-item::before {content: \"\";position: absolute;border-left: 1px solid gray;box-sizing: border-box;top: 0;bottom: 0;left: 50%;z-index: -1;}#sk-container-id-3 div.sk-parallel-item {display: flex;flex-direction: column;z-index: 1;position: relative;background-color: white;}#sk-container-id-3 div.sk-parallel-item:first-child::after {align-self: flex-end;width: 50%;}#sk-container-id-3 div.sk-parallel-item:last-child::after {align-self: flex-start;width: 50%;}#sk-container-id-3 div.sk-parallel-item:only-child::after {width: 0;}#sk-container-id-3 div.sk-dashed-wrapped {border: 1px dashed gray;margin: 0 0.4em 0.5em 0.4em;box-sizing: border-box;padding-bottom: 0.4em;background-color: white;}#sk-container-id-3 div.sk-label label {font-family: monospace;font-weight: bold;display: inline-block;line-height: 1.2em;}#sk-container-id-3 div.sk-label-container {text-align: center;}#sk-container-id-3 div.sk-container {/* jupyter's `normalize.less` sets `[hidden] { display: none; }` but bootstrap.min.css set `[hidden] { display: none !important; }` so we also need the `!important` here to be able to override the default hidden behavior on the sphinx rendered scikit-learn.org. See: https://github.com/scikit-learn/scikit-learn/issues/21755 */display: inline-block !important;position: relative;}#sk-container-id-3 div.sk-text-repr-fallback {display: none;}</style><div id=\"sk-container-id-3\" class=\"sk-top-container\"><div class=\"sk-text-repr-fallback\"><pre>GridSearchCV(cv=5,\n",
       "             estimator=Pipeline(steps=[(&#x27;scaler&#x27;, StandardScaler()),\n",
       "                                       (&#x27;kmeans&#x27;, KMeans()),\n",
       "                                       (&#x27;encoder&#x27;,\n",
       "                                        OneHotEncoder(handle_unknown=&#x27;ignore&#x27;)),\n",
       "                                       (&#x27;classifier&#x27;, LogisticRegression())]),\n",
       "             param_grid={&#x27;classifier__C&#x27;: [0.1, 1, 10],\n",
       "                         &#x27;kmeans__n_clusters&#x27;: [2, 4, 6, 8]})</pre><b>In a Jupyter environment, please rerun this cell to show the HTML representation or trust the notebook. <br />On GitHub, the HTML representation is unable to render, please try loading this page with nbviewer.org.</b></div><div class=\"sk-container\" hidden><div class=\"sk-item sk-dashed-wrapped\"><div class=\"sk-label-container\"><div class=\"sk-label sk-toggleable\"><input class=\"sk-toggleable__control sk-hidden--visually\" id=\"sk-estimator-id-11\" type=\"checkbox\" ><label for=\"sk-estimator-id-11\" class=\"sk-toggleable__label sk-toggleable__label-arrow\">GridSearchCV</label><div class=\"sk-toggleable__content\"><pre>GridSearchCV(cv=5,\n",
       "             estimator=Pipeline(steps=[(&#x27;scaler&#x27;, StandardScaler()),\n",
       "                                       (&#x27;kmeans&#x27;, KMeans()),\n",
       "                                       (&#x27;encoder&#x27;,\n",
       "                                        OneHotEncoder(handle_unknown=&#x27;ignore&#x27;)),\n",
       "                                       (&#x27;classifier&#x27;, LogisticRegression())]),\n",
       "             param_grid={&#x27;classifier__C&#x27;: [0.1, 1, 10],\n",
       "                         &#x27;kmeans__n_clusters&#x27;: [2, 4, 6, 8]})</pre></div></div></div><div class=\"sk-parallel\"><div class=\"sk-parallel-item\"><div class=\"sk-item\"><div class=\"sk-label-container\"><div class=\"sk-label sk-toggleable\"><input class=\"sk-toggleable__control sk-hidden--visually\" id=\"sk-estimator-id-12\" type=\"checkbox\" ><label for=\"sk-estimator-id-12\" class=\"sk-toggleable__label sk-toggleable__label-arrow\">estimator: Pipeline</label><div class=\"sk-toggleable__content\"><pre>Pipeline(steps=[(&#x27;scaler&#x27;, StandardScaler()), (&#x27;kmeans&#x27;, KMeans()),\n",
       "                (&#x27;encoder&#x27;, OneHotEncoder(handle_unknown=&#x27;ignore&#x27;)),\n",
       "                (&#x27;classifier&#x27;, LogisticRegression())])</pre></div></div></div><div class=\"sk-serial\"><div class=\"sk-item\"><div class=\"sk-serial\"><div class=\"sk-item\"><div class=\"sk-estimator sk-toggleable\"><input class=\"sk-toggleable__control sk-hidden--visually\" id=\"sk-estimator-id-13\" type=\"checkbox\" ><label for=\"sk-estimator-id-13\" class=\"sk-toggleable__label sk-toggleable__label-arrow\">StandardScaler</label><div class=\"sk-toggleable__content\"><pre>StandardScaler()</pre></div></div></div><div class=\"sk-item\"><div class=\"sk-estimator sk-toggleable\"><input class=\"sk-toggleable__control sk-hidden--visually\" id=\"sk-estimator-id-14\" type=\"checkbox\" ><label for=\"sk-estimator-id-14\" class=\"sk-toggleable__label sk-toggleable__label-arrow\">KMeans</label><div class=\"sk-toggleable__content\"><pre>KMeans()</pre></div></div></div><div class=\"sk-item\"><div class=\"sk-estimator sk-toggleable\"><input class=\"sk-toggleable__control sk-hidden--visually\" id=\"sk-estimator-id-15\" type=\"checkbox\" ><label for=\"sk-estimator-id-15\" class=\"sk-toggleable__label sk-toggleable__label-arrow\">OneHotEncoder</label><div class=\"sk-toggleable__content\"><pre>OneHotEncoder(handle_unknown=&#x27;ignore&#x27;)</pre></div></div></div><div class=\"sk-item\"><div class=\"sk-estimator sk-toggleable\"><input class=\"sk-toggleable__control sk-hidden--visually\" id=\"sk-estimator-id-16\" type=\"checkbox\" ><label for=\"sk-estimator-id-16\" class=\"sk-toggleable__label sk-toggleable__label-arrow\">LogisticRegression</label><div class=\"sk-toggleable__content\"><pre>LogisticRegression()</pre></div></div></div></div></div></div></div></div></div></div></div></div>"
      ],
      "text/plain": [
       "GridSearchCV(cv=5,\n",
       "             estimator=Pipeline(steps=[('scaler', StandardScaler()),\n",
       "                                       ('kmeans', KMeans()),\n",
       "                                       ('encoder',\n",
       "                                        OneHotEncoder(handle_unknown='ignore')),\n",
       "                                       ('classifier', LogisticRegression())]),\n",
       "             param_grid={'classifier__C': [0.1, 1, 10],\n",
       "                         'kmeans__n_clusters': [2, 4, 6, 8]})"
      ]
     },
     "execution_count": 31,
     "metadata": {},
     "output_type": "execute_result"
    }
   ],
   "source": [
    "grid_search = GridSearchCV(pipeline, param_grid, cv=5)\n",
    "grid_search.fit(X_train_final, y_train)"
   ]
  },
  {
   "cell_type": "code",
   "execution_count": 32,
   "metadata": {},
   "outputs": [],
   "source": [
    "y_pred = grid_search.predict(X_test_final)\n",
    "accuracy = accuracy_score(y_test, y_pred)\n",
    "precision = precision_score(y_test, y_pred)\n",
    "recall = recall_score(y_test, y_pred)"
   ]
  },
  {
   "cell_type": "code",
   "execution_count": 33,
   "metadata": {},
   "outputs": [
    {
     "name": "stdout",
     "output_type": "stream",
     "text": [
      "Accuracy: 0.49\n",
      "Precision: 0.00\n",
      "Recall: 0.00\n"
     ]
    }
   ],
   "source": [
    "print(f'Accuracy: {accuracy:.2f}')\n",
    "print(f'Precision: {precision:.2f}')\n",
    "print(f'Recall: {recall:.2f}')"
   ]
  },
  {
   "cell_type": "code",
   "execution_count": 34,
   "metadata": {},
   "outputs": [
    {
     "data": {
      "image/png": "[encoded data removed]",
      "text/plain": [
       "<Figure size 800x600 with 1 Axes>"
      ]
     },
     "metadata": {},
     "output_type": "display_data"
    }
   ],
   "source": [
    "y_pred_proba = grid_search.predict_proba(X_test_final)[:, 1]\n",
    "fpr, tpr, _ = roc_curve(y_test, y_pred_proba)\n",
    "roc_auc = auc(fpr, tpr)\n",
    "\n",
    "plt.figure(figsize=(8, 6))\n",
    "plt.plot(fpr, tpr, color='darkorange', lw=2, label='ROC curve (AUC = %0.2f)' % roc_auc)\n",
    "plt.plot([0, 1], [0, 1], color='navy', lw=2, linestyle='--')\n",
    "plt.xlim([0.0, 1.0])\n",
    "plt.ylim([0.0, 1.05])\n",
    "plt.xlabel('False Positive Rate')\n",
    "plt.ylabel('True Positive Rate')\n",
    "plt.title('Receiver Operating Characteristic (ROC) Curve')\n",
    "plt.legend(loc=\"lower right\")\n",
    "plt.show()"
   ]
  },
  {
   "cell_type": "markdown",
   "metadata": {},
   "source": [
    "Insert conclusions"
   ]
  },
  {
   "cell_type": "markdown",
   "metadata": {},
   "source": [
    "# Question 5\n",
    "- Which model, based on the results of `Questions 2-4` would you recommend to use?  \n",
    "- Use as much code as necessary to support your choice."
   ]
  },
  {
   "cell_type": "markdown",
   "metadata": {},
   "source": [
    "The logistic regression model with PCA preprocessing had the best performance, with an accuracy of 0.93, precision of 0.99, and recall of 0.87. This was superior to the other models tested. The ROC curve and AUC of 0.93 also indicated a strong classifier. PCA helps capture key data dimensions, providing interpretability. Overall, this model is the most effective and reliable choice for the given classification task."
   ]
  },
  {
   "cell_type": "code",
   "execution_count": null,
   "metadata": {},
   "outputs": [],
   "source": []
  }
 ],
 "metadata": {
  "kernelspec": {
   "display_name": "Python 3 (ipykernel)",
   "language": "python",
   "name": "python3"
  },
  "language_info": {
   "codemirror_mode": {
    "name": "ipython",
    "version": 3
   },
   "file_extension": ".py",
   "mimetype": "text/x-python",
   "name": "python",
   "nbconvert_exporter": "python",
   "pygments_lexer": "ipython3",
   "version": "3.11.4"
  },
  "toc": {
   "base_numbering": 1,
   "nav_menu": {},
   "number_sections": true,
   "sideBar": true,
   "skip_h1_title": false,
   "title_cell": "Table of Contents",
   "title_sidebar": "Contents",
   "toc_cell": false,
   "toc_position": {},
   "toc_section_display": true,
   "toc_window_display": false
  }
 },
 "nbformat": 4,
 "nbformat_minor": 4
}
