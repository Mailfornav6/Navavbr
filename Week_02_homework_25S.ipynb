{
  "cells": [
    {
      "cell_type": "markdown",
      "metadata": {
        "id": "Sqw_nGgxl0Nc"
      },
      "source": [
        "## Homework\n",
        "\n",
        "### Part A: An application of SVD - image compression\n",
        "\n",
        "[Source](https://numpy.org/numpy-tutorials/content/tutorial-svd.html)\n",
        "\n",
        "\n",
        "Using the above-mentioned source, make an image compressor using Python classes."
      ]
    },
    {
      "cell_type": "markdown",
      "metadata": {
        "id": "Eo7Mo_ONos_Q"
      },
      "source": [
        "##### The following is the sample code only. You can write your Python code in any way you like. But you need to create a Python class and use the class. In other words, your code needs to follow OOP."
      ]
    },
    {
      "cell_type": "code",
      "execution_count": null,
      "metadata": {
        "id": "5ZqENxwzmRL3"
      },
      "outputs": [],
      "source": [
        "class ImageCompressor:\n",
        "  def __init__(self, image):\n",
        "    \"\"\"any variables needed to be initialized.\n",
        "    \"\"\"\n",
        "    self.image = image\n",
        "\n",
        "  def display_image(self, image_to_display):\n",
        "    \"\"\"display the image: original or compressed.\"\"\"\n",
        "    pass\n",
        "  \n",
        "  def compress(self):\n",
        "    \"\"\"implement SVD for image compress.\n",
        "    \"\"\"\n",
        "    return image_compressed"
      ]
    },
    {
      "cell_type": "code",
      "execution_count": null,
      "metadata": {
        "id": "dX-XLrTungpk"
      },
      "outputs": [],
      "source": [
        "### To show your Python class works as expected.\n",
        "image = \"path of an image\"\n",
        "# create an instance of ImageCompressor\n",
        "image_compressor = ImageCompressor(image)\n",
        "# compress the image\n",
        "image_compressed = image_compressor.compress()\n",
        "# display original image and compressed image\n",
        "image_compressor.display_image(image)\n",
        "image_compressor.display_image(image_compressed)\n"
      ]
    },
    {
      "cell_type": "markdown",
      "metadata": {},
      "source": [
        "### Part B: Show the intermediate steps of get derivative function of sigmoid function\n",
        "\n",
        "Sigmoid function: $$\\sigma(x) = \\frac{1}{1+e^{-x}}$$ \n",
        "\n",
        "\n",
        "The derivative func of Sigmoid function: $$\\frac{d\\sigma(x)}{dx} = \\left( 1 - \\sigma(x) \\right) \\sigma(x)$$\n",
        "\n",
        "\n",
        "Questions: show intermediate steps of how to get the derivative func of sigmoid."
      ]
    },
    {
      "cell_type": "markdown",
      "metadata": {},
      "source": []
    }
  ],
  "metadata": {
    "colab": {
      "collapsed_sections": [],
      "name": "Week-01-homework.ipynb",
      "provenance": []
    },
    "kernelspec": {
      "display_name": "Python 3",
      "name": "python3"
    },
    "language_info": {
      "name": "python"
    }
  },
  "nbformat": 4,
  "nbformat_minor": 0
}
